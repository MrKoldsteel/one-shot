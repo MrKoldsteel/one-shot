{
 "cells": [
  {
   "cell_type": "markdown",
   "metadata": {},
   "source": [
    "# One-shot Learning and Omniglot\n",
    "\n",
    "The one-shot classification task involves trying to categorize new data based on limited experience, which is something that humans excel at.  A somewhat trite example is the fact that children are able to accurately categorize new objects based on very limited experience; For instance, show a child a single picture of a giraffe and they will most likely be able to accurately categorize future pictures of giraffes.\n",
    "\n",
    "Advances in neural network and computer architecture have combined with accessible software packages to allow for the creation very powerful image and speech recognition models. While this has led to awesome technological advances, these models are often very task specific and require huge amounts of data to train.\n",
    "\n",
    "Nevertheless, there remain many domains where accurate classification is required but limited data is available. Because of this, finding reliable methods for designing and training machine learning models which display the ability to *learn* from limited experience, as children do, and perform well in these situations is an important area of research.\n",
    "\n",
    "### Omniglot Dataset\n",
    "\n",
    "A great example of a dataset where limited examples are available is the [Omniglot dataset](https://github.com/brendenlake/omniglot). This dataset consists of images of 1623 different characters spanning 50 alphabets, with 20 examples of each character (each example having been drawn by a different person).  Because of the fact that this dataset contains a huge number of classes with relatively few examples, it has become colloquially known as the *inverse* of the famous [MNIST dataset](http://yann.lecun.com/exdb/mnist/) which, by contrast contains a large number of examples of relatively few characters (hand drawn images of the numbers 0 through 9).\n",
    "\n",
    "\n",
    "### Classification Task\n",
    "\n",
    "The omniglot dataset has been split into two parts; a background set consisting of 30 alphabets and an evaluation set consisting of 20 alphabets.  The task is to learn models on the background set (which consists of entirely different alphabets from those in the evaluation set) and use these to make 20-way one-shot predictions on the evaluation set.\n",
    "That last sentence is a bit loaded with jargon, so let's spend some time unpacking it.  \n",
    "\n",
    "The image below provides an example of an instance of a 25-way one-shot classification task from the omniglot dataset.  \n",
    "\n",
    "![oneshot task](../reports/figures/task_25.png)\n",
    "\n",
    "We are given a *test image* and provided with 20 examples (which are called the *support set* and is where the 20-way comes from).  These examples represent our limited experience (together with whatever model we have trained on the background set) and it is guaranteed that the test image is of the same character type as exactly one of the 20 examples.  The goal is to accurately pick which one.   \n",
    "\n",
    "As outlined in [Siamese Neural Networks for One-shot Image Recognition](https://www.cs.cmu.edu/~rsalakhu/papers/oneshot1.pdf) by Koch et. al., to evaluate this task:\n",
    " - An alphabet is chosen from among the evaluation set.\n",
    " - 20 characters are sampled without replacement from the alphabet.\n",
    " - Two of the 20 drawers are chosen at random. \n",
    " - The 20 characters of one drawer are assigned to the test set while those of the other are assigned to the support set. \n",
    " - For a given model, for each member of the test set we use our model to predict which member of the support set has the same class. \n",
    " - We can then compare these predictions against the known classes of the test members and use the number of correct classifications to estimate how accurate our model is.\n",
    " - repeating this for a large number of such randomly generated tasks should, by the law of large numbers, give us a decent estimate of the accuracy of our model at 20-way one-shot classification tasks. \n",
    " \n",
    "\n",
    "# Initial Exploration of the Dataset\n",
    "\n",
    "The [raw data](https://github.com/brendenlake/omniglot/tree/master/python) was processed and saved to separate numpy arrays containing image pixels and category information.  This was handled by the script `/src/data/make_dataset.py` in this repository.  "
   ]
  },
  {
   "cell_type": "code",
   "execution_count": 1,
   "metadata": {},
   "outputs": [
    {
     "name": "stdout",
     "output_type": "stream",
     "text": [
      "(19280, 105, 105) (19280, 3) (13180, 105, 105) (13180, 3)\n"
     ]
    }
   ],
   "source": [
    "import numpy as np\n",
    "import pandas as pd\n",
    "\n",
    "# Set seed\n",
    "np.random.seed(0)\n",
    "\n",
    "# Load the background dataset. X_background contains the background\n",
    "# images and y_background class information.\n",
    "train_npz_file = np.load('../data/processed/train.npz')\n",
    "X_background, y_background = train_npz_file['arr_0'], train_npz_file['arr_1']\n",
    "\n",
    "# Load the evaluation dataset. X_evaluation contains the background\n",
    "# images and y_evaluation class information.\n",
    "test_npz_file = np.load('../data/processed/test.npz')\n",
    "X_evaluation, y_evaluation = test_npz_file['arr_0'], test_npz_file['arr_1']\n",
    "\n",
    "# Put the class information in pandas arrays for ease of exploration\n",
    "# and constrained sampling.  \n",
    "y_background_pd = pd.DataFrame(\n",
    "                    data=y_background, \n",
    "                    columns=['Alphabet', 'Character', 'Drawer']\n",
    "    )\n",
    "y_evaluation_pd = pd.DataFrame(\n",
    "                    data=y_evaluation, \n",
    "                    columns=['Alphabet', 'Character', 'Drawer']\n",
    "    )\n",
    "\n",
    "# Check shapes of images.\n",
    "print(X_background.shape, y_background.shape, X_evaluation.shape, y_evaluation.shape)"
   ]
  },
  {
   "cell_type": "markdown",
   "metadata": {},
   "source": [
    "We can get a grip on the specifics of the dataset by looking at some queries from the dataframes.  Let's make sure that the basic info above is matched by what we loaded in:"
   ]
  },
  {
   "cell_type": "code",
   "execution_count": 3,
   "metadata": {},
   "outputs": [
    {
     "name": "stdout",
     "output_type": "stream",
     "text": [
      "There are 30 alphabets in the background set and 20 in the evaluation set.\n",
      "This gives a total of 50 alphabets in the dataset. \n",
      "\n",
      "There are 964 characters in the background set and 659 in the evaluation set.\n",
      "This gives a total of 1623 characters in the dataset. \n",
      "\n",
      "The smallest alphabet in the background set has 20.0 drawers. while the largest alphabet \n",
      "in the background set has 20 drawers.\n",
      "\n",
      "The smallest alphabet in the evaluation set has 20.0 drawers. while the largest alphabet \n",
      "in the evaluation set has 20 drawers.\n"
     ]
    }
   ],
   "source": [
    "# Number of alphabets in the background and evaluation sets\n",
    "n_b_al = y_background_pd.Alphabet.unique().shape[0]\n",
    "n_e_al = y_evaluation_pd.Alphabet.unique().shape[0]\n",
    "print('There are {} alphabets in the background set and {} in the evaluation set.'.format(\n",
    "                            n_b_al, n_e_al\n",
    "))\n",
    "print('This gives a total of {} alphabets in the dataset.'.format(\n",
    "                            n_b_al + n_e_al\n",
    "), '\\n')\n",
    "\n",
    "\n",
    "# Number of characters in the background and evaluation sets\n",
    "n_b_ch = y_background_pd.groupby(['Alphabet', 'Character']).max().shape[0]\n",
    "n_e_ch = y_evaluation_pd.groupby(['Alphabet', 'Character']).max().shape[0]\n",
    "print('There are {} characters in the background set and {} in the evaluation set.'.format(\n",
    "                            n_b_ch, n_e_ch\n",
    "))\n",
    "print('This gives a total of {} characters in the dataset.'.format(\n",
    "                            n_b_ch + n_e_ch\n",
    "), '\\n')\n",
    "\n",
    "# Check that the number of drawers is the same in each set and\n",
    "# find the total number of characters\n",
    "n_drawers_b = y_background_pd.Drawer.unique().shape[0]\n",
    "min_max_b = y_background_pd.groupby(['Alphabet', 'Character']).max().min().values[0]\n",
    "n_drawers_e = y_evaluation_pd.Drawer.unique().shape[0]\n",
    "min_max_e = y_evaluation_pd.groupby(['Alphabet', 'Character']).max().min().values[0]\n",
    "print('The smallest alphabet in the background set has {} drawers.'.format(min_max_b) + \\\n",
    "      ' while the largest alphabet \\nin the background set has {} drawers.\\n'.format(n_drawers_b))\n",
    "print('The smallest alphabet in the evaluation set has {} drawers.'.format(min_max_e) + \\\n",
    "      ' while the largest alphabet \\nin the evaluation set has {} drawers.'.format(n_drawers_e))"
   ]
  },
  {
   "cell_type": "markdown",
   "metadata": {},
   "source": [
    "This confirms that the loading in of the alphabets maintained the basic stats that were outlined above regarding number alphabets, characters, drawers and the splits between the datasets.  For evaluating models, we'll further split the background set into training and validation sets."
   ]
  },
  {
   "cell_type": "code",
   "execution_count": 4,
   "metadata": {},
   "outputs": [],
   "source": [
    "# Further split the background set into training and validation sets\n",
    "# by reserving a fraction of the 20 drawers for validation:\n",
    "# --> first isolate the unique drawers (there are 20 of these)\n",
    "# --> randomly select 16 of these to send to training set and the remaining 4 to validation \n",
    "drawers = y_background_pd.Drawer.unique()\n",
    "trn_drawers = np.random.choice(drawers, 16, replace=False)\n",
    "trn_inds = y_background_pd.Drawer.isin(trn_drawers)\n",
    "X_trn, y_trn = X_background[trn_inds], y_background[trn_inds]\n",
    "X_val, y_val = X_background[~trn_inds], y_background[~trn_inds]"
   ]
  },
  {
   "cell_type": "markdown",
   "metadata": {},
   "source": [
    "Now that we've split into training and validation sets for experimenting with modelling, I'll also in a class to help with generating one-shot tasks. Also get autoreload going in case any editing needs to be done."
   ]
  },
  {
   "cell_type": "code",
   "execution_count": 5,
   "metadata": {},
   "outputs": [],
   "source": [
    "import os\n",
    "import sys\n",
    "new_path = os.getcwd() + '/../src'\n",
    "if new_path not in sys.path:\n",
    "    sys.path.append(new_path)\n",
    "\n",
    "%load_ext autoreload\n",
    "%autoreload 2"
   ]
  },
  {
   "cell_type": "code",
   "execution_count": 58,
   "metadata": {},
   "outputs": [
    {
     "name": "stdout",
     "output_type": "stream",
     "text": [
      "Below is a one-shot sample of characters from the Futurama alphabet. The sampled characters are at the same positions in both test and support plots.\n",
      "\n"
     ]
    },
    {
     "data": {
      "image/png": "[encoded data removed]",
      "text/plain": [
       "<matplotlib.figure.Figure at 0x1f202ee80>"
      ]
     },
     "metadata": {},
     "output_type": "display_data"
    }
   ],
   "source": [
    "from data.data_utils import OneShotGenerator\n",
    "from data.data_utils import plot_oneshot_task\n",
    "\n",
    "TrnData = OneShotGenerator(X_trn, y_trn)\n",
    "ValData = OneShotGenerator(X_trn, y_trn)\n",
    "TstData = OneShotGenerator(X_evaluation, y_evaluation)\n",
    "\n",
    "x_pairs, y_pairs = TrnData.generate_one_shot()\n",
    "\n",
    "print('Below is a one-shot sample of characters from the {} alphabet.'.format(\n",
    "                        y_pairs[0].Alphabet.iloc[0]) + \\\n",
    "      ' The sampled characters are at the same positions in both test and support plots.\\n')\n",
    "pairs = [x_pairs[0].reshape(20, 105, 105, 1), x_pairs[1].reshape(20, 105, 105, 1)]\n",
    "# Note, the plot may fail sometimes since the training data has alphabets with less than\n",
    "# 20 characters.  In this case, the OneShotGenerator samples test and support examples of\n",
    "# the entire alphabet (from two randomly selected drawers).  The plot_oneshot (which was\n",
    "# disigned to plot 20-way tasks) fails in this case.  Re-running the cell should generate\n",
    "# a new sample that works.\n",
    "plot_oneshot_task(pairs)"
   ]
  },
  {
   "cell_type": "markdown",
   "metadata": {},
   "source": [
    "### Model Exploration: Nearest Neighbors\n",
    "\n",
    "Nearest neighbors (NN) models provide a simple way of approaching this kind of task.  In this context, in order order to predict the class of a test image, such a model would:\n",
    " - Find the(or a group of) *closest* element(s) of the support set.\n",
    " - Use the class(es) of that(ose) element(s) to predict the class of the test image. \n",
    "\n",
    "NN models are simple to implent and often perform unexpectedly well given their simplicity.  Nevertheless, there are drawbacks that are immediately apparent for this task:\n",
    "  - Given the one-shot nature of this problem, it would really only make sense to use the closest image in this context. Often, though, NN methods perform better when we can use more than one of the *closest* support set images to to classify the test image (as we can outvote mistakes).\n",
    "  - As we can see by comparing the test and support images above, two examples of the same character often lie at different locations and have different scaling and orientation. This may conspire to guarantee that in comparing, for instance, euclidean distance between raw pixel values of images in order to find a *closest* match could easily result in returning the wrong example. \n",
    "  \n",
    "Nevertheless, let's forge forth and try out a nearest neighbor model on some samples from the training set. "
   ]
  },
  {
   "cell_type": "code",
   "execution_count": 8,
   "metadata": {},
   "outputs": [
    {
     "name": "stdout",
     "output_type": "stream",
     "text": [
      "The estimated accuracy of 20-way one-shot by NN with Minkowski metric ata p value of 1 is: 0.14996428571428574 \n",
      "\n",
      "The estimated accuracy of 20-way one-shot by NN with Minkowski metric ata p value of 1.5 is: 0.2016281512605042 \n",
      "\n",
      "The estimated accuracy of 20-way one-shot by NN with Minkowski metric ata p value of 2 is: 0.195422268907563 \n",
      "\n",
      "The estimated accuracy of 20-way one-shot by NN with Minkowski metric ata p value of 2.5 is: 0.19484873949579837 \n",
      "\n",
      "The estimated accuracy of 20-way one-shot by NN with Minkowski metric ata p value of 3 is: 0.16913865546218487 \n",
      "\n"
     ]
    }
   ],
   "source": [
    "from sklearn.neighbors import KNeighborsClassifier\n",
    "\n",
    "def evaluate_nn(m=400, p=2, data=TrnData):\n",
    "    accuracies = []\n",
    "    for i in range(m):\n",
    "        x_pairs, _ = data.generate_one_shot()\n",
    "        n_way = x_pairs[0].shape[0]\n",
    "        nn_clf = KNeighborsClassifier(n_neighbors=1, p=p)\n",
    "        nn_clf.fit(x_pairs[1].reshape(n_way, -1), np.arange(n_way))\n",
    "        preds = nn_clf.predict(x_pairs[0].reshape(n_way, -1))\n",
    "        accuracies.append(np.mean(preds == np.arange(n_way)))\n",
    "    return np.mean(accuracies)\n",
    "\n",
    "for p in [1, 1.5, 2, 2.5, 3]:\n",
    "    print('The estimated accuracy of 20-way one-shot by NN with Minkowski metric at' + \\\n",
    "          'a p value of {} is: {} \\n'.format(p, evaluate_nn(m=50, p=p)))"
   ]
  },
  {
   "cell_type": "code",
   "execution_count": 9,
   "metadata": {},
   "outputs": [
    {
     "name": "stdout",
     "output_type": "stream",
     "text": [
      "The estimated accuracy of 20-way one-shot by NN with Minkowski metric ata p value of 1 is: 0.1595504201680672 \n",
      "\n",
      "The estimated accuracy of 20-way one-shot by NN with Minkowski metric ata p value of 1.5 is: 0.1847857142857143 \n",
      "\n",
      "The estimated accuracy of 20-way one-shot by NN with Minkowski metric ata p value of 2 is: 0.19376470588235292 \n",
      "\n",
      "The estimated accuracy of 20-way one-shot by NN with Minkowski metric ata p value of 2.5 is: 0.19159453781512606 \n",
      "\n",
      "The estimated accuracy of 20-way one-shot by NN with Minkowski metric ata p value of 3 is: 0.17163025210084037 \n",
      "\n"
     ]
    }
   ],
   "source": [
    "for p in [1, 1.5, 2, 2.5, 3]:\n",
    "    print('The estimated accuracy of 20-way one-shot by NN with Minkowski metric at' + \\\n",
    "          'a p value of {} is: {} \\n'.format(p, evaluate_nn(m=50, p=p, data=ValData)))"
   ]
  },
  {
   "cell_type": "markdown",
   "metadata": {},
   "source": [
    "The following snippet of a post details how to pass your own metric to the nearest neighbors algorithm.  Seems that this should also work for KNearestNeighborsClassifier.\n",
    "So, let's try this out with shape contexts.  "
   ]
  },
  {
   "cell_type": "raw",
   "metadata": {},
   "source": [
    "You pass a metric as metric param, and additional metric arguments as keyword paramethers to NN constructor:\n",
    "\n",
    ">>> def mydist(x, y):\n",
    "...     return np.sum((x-y)**2)\n",
    "...\n",
    ">>> X = np.array([[-1, -1], [-2, -1], [-3, -2], [1, 1], [2, 1], [3, 2]])\n",
    "\n",
    ">>> nbrs = NearestNeighbors(n_neighbors=4, algorithm='ball_tree',\n",
    "...            metric='pyfunc', func=mydist)\n",
    ">>> nbrs.fit(X)\n",
    "NearestNeighbors(algorithm='ball_tree', leaf_size=30, metric='pyfunc',\n",
    "         n_neighbors=4, radius=1.0)\n",
    ">>> nbrs.kneighbors(X)\n",
    "(array([[  0.,   1.,   5.,   8.],\n",
    "       [  0.,   1.,   2.,  13.],\n",
    "       [  0.,   2.,   5.,  25.],\n",
    "       [  0.,   1.,   5.,   8.],\n",
    "       [  0.,   1.,   2.,  13.],\n",
    "       [  0.,   2.,   5.,  25.]]), array([[0, 1, 2, 3],\n",
    "       [1, 0, 2, 3],\n",
    "       [2, 1, 0, 3],\n",
    "       [3, 4, 5, 0],\n",
    "       [4, 3, 5, 0],\n",
    "       [5, 4, 3, 0]]))"
   ]
  },
  {
   "cell_type": "markdown",
   "metadata": {},
   "source": [
    "Nearest neighbors is quite underwhelming with Minkowski metric.  So let's do a blurb on shape contexts here and try getting things going with shape contexts along the lines of the example above.  We need to ammend things a bit here, because what we really want is the Jitendra image to edge method...  Also, need to have OpenCV going here... But let's try with what we have for now and then ammend things later."
   ]
  },
  {
   "cell_type": "code",
   "execution_count": 239,
   "metadata": {},
   "outputs": [],
   "source": [
    "from data.sc_utils import vec_image_to_shape_contexts, cosine_distances\n",
    "from scipy.optimize import linear_sum_assignment\n",
    "from scipy.spatial.distance import cdist, cosine\n",
    "\n",
    "def chi_square_dists(sc1, sc2):\n",
    "    n, m = sc1.shape\n",
    "    a, b = sc1.reshape(n, 1, m), sc2.reshape(1, n, m)\n",
    "    c, d = sc1.copy().reshape(n, 1, m), sc2.copy().reshape(1, n, m)\n",
    "    # c[np.where((c==0) & (d==0))] = np.inf\n",
    "    # d[np.where((c==0) & (d==0))] = np.inf\n",
    "    f = c + d\n",
    "    f[np.where(f==0)] = np.inf\n",
    "    return (((a - b)**2) / f).sum(axis=-1) / 2\n",
    "\n",
    "def full_costs(a1, a2, sc1, sc2, beta=0.3):\n",
    "    return (1 - beta) * chi_square_dists(sc1, sc2) + beta * cosine_distances(a1, a2)\n",
    "    # return (1 - beta) * cdist(sc1, sc2, 'canberra') + beta * cosine_distances(a1, a2)\n",
    "\n",
    "def mydist(x, y, q=0.6):\n",
    "    x_im = x.reshape(105, 105)\n",
    "    y_im = x.reshape(105, 105)\n",
    "    x_a, x_sc = vec_image_to_shape_contexts(x_im)\n",
    "    y_a, y_sc = vec_image_to_shape_contexts(y_im)\n",
    "    # print(x_sc.shape, y_sc.shape) # What about looking at dists on these\n",
    "    costs = full_costs(x_a, y_a, x_sc, y_sc)\n",
    "    # costs = chi_square_dists(x_sc, y_sc)\n",
    "    i, pi = linear_sum_assignment(costs)\n",
    "    good_inds = np.where(costs[i, pi] <= q)[0]\n",
    "    return costs[i[good_inds], pi[good_inds]].sum()"
   ]
  },
  {
   "cell_type": "code",
   "execution_count": 15,
   "metadata": {},
   "outputs": [
    {
     "data": {
      "text/plain": [
       "(9.706526242217322, 9.314592877998258)"
      ]
     },
     "execution_count": 15,
     "metadata": {},
     "output_type": "execute_result"
    }
   ],
   "source": [
    "mydist(pairs[0][1].reshape(-1), pairs[1][1].reshape(-1)), mydist(pairs[1][1].reshape(-1), pairs[0][1].reshape(-1))"
   ]
  },
  {
   "cell_type": "code",
   "execution_count": 16,
   "metadata": {},
   "outputs": [],
   "source": [
    "def predict(x_test, X_train, q=0.6):\n",
    "    dists = []\n",
    "    for pt in X_train:\n",
    "        dists.append(mydist(x_test, pt, q=q) + \\\n",
    "                     mydist(pt, x_test, q=q))\n",
    "    return np.argmin(dists), dists\n",
    "\n",
    "# predict(pairs[0][0].reshape(-1), pairs[1].reshape(20, -1))\n",
    "\n",
    "def return_preds(X_test, X_train, q=0.6):\n",
    "    preds, pt_dists = [], []\n",
    "    for pt in X_test:\n",
    "        pred, dists = predict(pt, X_train=X_train, q=q)\n",
    "        preds.append(pred)\n",
    "        pt_dists.append(dists)\n",
    "    return np.array(preds), np.stack(pt_dists)"
   ]
  },
  {
   "cell_type": "code",
   "execution_count": 17,
   "metadata": {},
   "outputs": [],
   "source": [
    "preds, pt_dists = return_preds(pairs[0].reshape(20, -1), pairs[1].reshape(20, -1))"
   ]
  },
  {
   "cell_type": "code",
   "execution_count": 18,
   "metadata": {},
   "outputs": [
    {
     "data": {
      "text/plain": [
       "1"
      ]
     },
     "execution_count": 18,
     "metadata": {},
     "output_type": "execute_result"
    }
   ],
   "source": [
    "np.sum(preds == np.arange(20))"
   ]
  },
  {
   "cell_type": "code",
   "execution_count": 19,
   "metadata": {},
   "outputs": [],
   "source": [
    "from sklearn.decomposition import KernelPCA, MiniBatchSparsePCA, PCA, TruncatedSVD\n",
    "from sklearn.neighbors import KNeighborsClassifier\n",
    "from sklearn.svm import LinearSVC\n",
    "from sklearn.pipeline import Pipeline"
   ]
  },
  {
   "cell_type": "code",
   "execution_count": 26,
   "metadata": {},
   "outputs": [],
   "source": [
    "x_pairs, y_pairs = TrnData.generate_one_shot()"
   ]
  },
  {
   "cell_type": "code",
   "execution_count": 40,
   "metadata": {},
   "outputs": [],
   "source": [
    "n_way = x_pairs[0].shape[0]\n",
    "\n",
    "Transform = KernelPCA(n_components=15, kernel='rbf')\n",
    "features = Transform.fit_transform(x_pairs[1].reshape(n_way, -1))"
   ]
  },
  {
   "cell_type": "code",
   "execution_count": 41,
   "metadata": {},
   "outputs": [],
   "source": [
    "clf = KNeighborsClassifier(n_neighbors=1)"
   ]
  },
  {
   "cell_type": "code",
   "execution_count": 42,
   "metadata": {},
   "outputs": [
    {
     "data": {
      "text/plain": [
       "KNeighborsClassifier(algorithm='auto', leaf_size=30, metric='minkowski',\n",
       "           metric_params=None, n_jobs=1, n_neighbors=1, p=2,\n",
       "           weights='uniform')"
      ]
     },
     "execution_count": 42,
     "metadata": {},
     "output_type": "execute_result"
    }
   ],
   "source": [
    "clf.fit(features, np.arange(20))"
   ]
  },
  {
   "cell_type": "code",
   "execution_count": 43,
   "metadata": {},
   "outputs": [],
   "source": [
    "test_features = Transform.transform(x_pairs[0].reshape(n_way, -1))\n",
    "preds = clf.predict(test_features)"
   ]
  },
  {
   "cell_type": "code",
   "execution_count": 44,
   "metadata": {},
   "outputs": [
    {
     "data": {
      "text/plain": [
       "0.15"
      ]
     },
     "execution_count": 44,
     "metadata": {},
     "output_type": "execute_result"
    }
   ],
   "source": [
    "np.mean(preds == np.arange(20))"
   ]
  },
  {
   "cell_type": "code",
   "execution_count": 45,
   "metadata": {},
   "outputs": [
    {
     "data": {
      "text/plain": [
       "(20, 105, 105)"
      ]
     },
     "execution_count": 45,
     "metadata": {},
     "output_type": "execute_result"
    }
   ],
   "source": [
    "x_pairs[1].shape"
   ]
  },
  {
   "cell_type": "code",
   "execution_count": 46,
   "metadata": {},
   "outputs": [],
   "source": [
    "x_pairs, y_pairs = TrnData.generate_one_shot()"
   ]
  },
  {
   "cell_type": "code",
   "execution_count": 47,
   "metadata": {},
   "outputs": [
    {
     "data": {
      "text/plain": [
       "0.05"
      ]
     },
     "execution_count": 47,
     "metadata": {},
     "output_type": "execute_result"
    }
   ],
   "source": [
    "n_way = x_pairs[0].shape[0]\n",
    "\n",
    "clf = Pipeline([\n",
    "            ('MSPCA', MiniBatchSparsePCA(n_components=15)),\n",
    "            # ('TSVD', TruncatedSVD(n_components=25)),\n",
    "            # ('KPCA', KernelPCA(n_components=25, kernel='rbf')), \n",
    "            ('NN', KNeighborsClassifier(n_neighbors=1))\n",
    "        ])\n",
    "\n",
    "clf.fit(x_pairs[1].reshape(n_way, -1), np.arange(n_way))\n",
    "preds = clf.predict(x_pairs[0].reshape(n_way, -1))\n",
    "\n",
    "np.mean(preds == np.arange(n_way))"
   ]
  },
  {
   "cell_type": "code",
   "execution_count": 50,
   "metadata": {},
   "outputs": [],
   "source": [
    "def eval(clf, n_evals=50):\n",
    "    accuracies = []\n",
    "    for _ in range(n_evals):\n",
    "        x_pairs, y_pairs = TrnData.generate_one_shot()\n",
    "        n_way = x_pairs[0].shape[0]\n",
    "        clf = Pipeline([\n",
    "                    # ('MSPCA', MiniBatchSparsePCA(n_components=10)),\n",
    "                    ('TSVD', TruncatedSVD(n_components=30)),\n",
    "                    # ('KPCA', KernelPCA(n_components=25, kernel='rbf')), \n",
    "                    ('NN', KNeighborsClassifier(\n",
    "                                        n_neighbors=1,\n",
    "                                        p=2\n",
    "                                    )\n",
    "                        )\n",
    "                ])\n",
    "        clf.fit(x_pairs[1].reshape(n_way, -1), np.arange(n_way))\n",
    "        preds = clf.predict(x_pairs[0].reshape(n_way, -1))\n",
    "        accuracies.append(np.mean(preds == np.arange(n_way)))\n",
    "    return np.mean(accuracies)"
   ]
  },
  {
   "cell_type": "code",
   "execution_count": 60,
   "metadata": {},
   "outputs": [
    {
     "data": {
      "text/plain": [
       "0.20748319327731093"
      ]
     },
     "execution_count": 60,
     "metadata": {},
     "output_type": "execute_result"
    }
   ],
   "source": [
    "eval(clf)"
   ]
  },
  {
   "cell_type": "code",
   "execution_count": 52,
   "metadata": {},
   "outputs": [],
   "source": [
    "from imgaug import augmenters as iaa"
   ]
  },
  {
   "cell_type": "markdown",
   "metadata": {},
   "source": [
    "The key to `iaa.Affine` lis to properly interpolate and fill in values (or zeros) that crop up when the image is rotated, translated, etc.  Looks like 0 is the standard value used which means there are a couple of ways to do this:\n",
    " - Reverse the representation of the images.  Looks like for Omniglot the background value is 0.  So when rotated and transformed, new values introduced are filled with 0 and this crops up as artefact.  If we normalize the images and set `im --> 1 - im` then the background will be zero and this problem should dissapear.\n",
    " - Change the background value to 1 by setting `cv=1` in the initialization of the image augmentor.  This also works well.\n",
    " - Set the `order` parameter to one of the option values.  This uses interpolation of the specified option to fill these values (such as Nearest-neighbor value or Bi-linear interpolation).  These seem like important options to be aware of in more complicated settings like ImageNet, etc.  \n",
    "\n",
    "This about sums it up, and explains why the artefacts we were getting were cropping up.  Seems that the algorithms used here are vectorized and c-based because things are much faster using these options than my patchy loop based solution.  The fix was just to use `cv=1` which works well enough (the second solution would have been identical... I think)."
   ]
  },
  {
   "cell_type": "markdown",
   "metadata": {},
   "source": [
    "The super sketchy loop based solution is based on the code that follows.  Definitely worth forgetting about and deferring to the solution outlined above. "
   ]
  },
  {
   "cell_type": "raw",
   "metadata": {},
   "source": [
    "new_im = resize(pad.augment_image(im), (200, 200)) #resize(im, (200, 200))\n",
    "new_im = trial_aug.augment_image(new_im)\n",
    "new_im = resize(crop.augment_image(new_im), (105, 105))\n",
    "\n",
    "def augment_it(im):\n",
    "    new_im = resize(pad.augment_image(im), (200, 200)) #resize(im, (200, 200))\n",
    "    new_im = aug.augment_image(new_im)\n",
    "    return resize(crop.augment_image(new_im), (105, 105))\n",
    "\n",
    "def augment_it_on_batch(x, y, n=5):\n",
    "    n_way = x.shape[0]\n",
    "    new_x = np.copy(x)\n",
    "    for _ in range(n):\n",
    "        for i in range(n_way):\n",
    "            new_x = np.concatenate(\n",
    "                (new_x, augment_it(x[i]).reshape(1, 105, 105))\n",
    "                )\n",
    "    return new_x, np.tile(y, n + 1) "
   ]
  },
  {
   "cell_type": "markdown",
   "metadata": {},
   "source": [
    "Appears that generating a whole bunch of random transformations of the images that sort of mimic the variations we might see in a sample of handwriting bumps up the accuracy a bit (but there's also quite a bit of variation in what we see)\n",
    "\n",
    "Appears that we more or less keep increasing accuracy if we generate more transformations, but this is quite slow.  Maybe this has been vectorized in the other program or has to do with the size of the pictures.  \n",
    "\n",
    "Also, appears that for a transformation to pass to nearest neighbors, representation in the top vectors learned by dictionary learning performs quite well.  Hard to tell though because it appears things have quite a bit of variance and it's slow to run. \n",
    "\n",
    "Lake et al. report an accuracy of 38.8% on the evaluation dataset by nearest neighbors with modified Hausdorff distance.  We were out to a fast start, butttttt this appears to be doing much better at the moment.  \n",
    "\n",
    "What if we up our game by upping the number of transformations (and??? the number of NNs we consider...)"
   ]
  },
  {
   "cell_type": "code",
   "execution_count": 61,
   "metadata": {},
   "outputs": [],
   "source": [
    "from sklearn.decomposition import MiniBatchDictionaryLearning"
   ]
  },
  {
   "cell_type": "code",
   "execution_count": 62,
   "metadata": {},
   "outputs": [],
   "source": [
    "aug = iaa.Affine(scale=(0.8, 1.2), translate_px=(-5, 5), rotate=(-18, 18), cval=1)"
   ]
  },
  {
   "cell_type": "code",
   "execution_count": 63,
   "metadata": {},
   "outputs": [],
   "source": [
    "# Revised version making use of the augment images functi\n",
    "def augment_it_on_batch(x, y, n=5):\n",
    "    n_way = x.shape[0]\n",
    "    new_x = np.copy(x)\n",
    "    for i in range(n):\n",
    "        new_x = np.concatenate(\n",
    "                (new_x, aug.augment_images(x).reshape(n_way, 105, 105))\n",
    "                )\n",
    "    return new_x, np.tile(y, n + 1)"
   ]
  },
  {
   "cell_type": "code",
   "execution_count": 64,
   "metadata": {},
   "outputs": [],
   "source": [
    "# x_pairs, y_pairs = TrnData.generate_one_shot()\n",
    "x_pairs, y_pairs = TstData.generate_one_shot()"
   ]
  },
  {
   "cell_type": "code",
   "execution_count": 65,
   "metadata": {},
   "outputs": [],
   "source": [
    "n_reps = 200\n",
    "n_way = x_pairs[1].shape[0]\n",
    "x, y = augment_it_on_batch(x_pairs[1], np.arange(n_way), n=n_reps)"
   ]
  },
  {
   "cell_type": "code",
   "execution_count": 66,
   "metadata": {},
   "outputs": [
    {
     "data": {
      "text/plain": [
       "0.2"
      ]
     },
     "execution_count": 66,
     "metadata": {},
     "output_type": "execute_result"
    }
   ],
   "source": [
    "clf = Pipeline([\n",
    "            ('MBDL', MiniBatchDictionaryLearning(n_components=20)),\n",
    "            # ('TSVD', TruncatedSVD(n_components=20)),\n",
    "            # ('KPCA', KernelPCA(n_components=25, kernel='rbf')), \n",
    "            ('NN', KNeighborsClassifier(n_neighbors=5))\n",
    "        ])\n",
    "\n",
    "clf.fit(x.reshape(n_way * (n_reps + 1), -1), y)\n",
    "preds = clf.predict(x_pairs[0].reshape(n_way, -1))\n",
    "np.mean(preds == np.arange(n_way))"
   ]
  },
  {
   "cell_type": "code",
   "execution_count": 67,
   "metadata": {},
   "outputs": [
    {
     "data": {
      "image/png": "[encoded data removed]",
      "text/plain": [
       "<matplotlib.figure.Figure at 0x1f1c54160>"
      ]
     },
     "metadata": {},
     "output_type": "display_data"
    }
   ],
   "source": [
    "pairs = [x[:n_way].reshape(n_way, 105, 105, 1), x[4 * n_way:(5 * n_way)].reshape(n_way, 105, 105, 1)]\n",
    "plot_oneshot_task(pairs)"
   ]
  },
  {
   "cell_type": "code",
   "execution_count": 68,
   "metadata": {},
   "outputs": [
    {
     "data": {
      "text/plain": [
       "(15424, 105, 105)"
      ]
     },
     "execution_count": 68,
     "metadata": {},
     "output_type": "execute_result"
    }
   ],
   "source": [
    "n_trn = X_trn.shape[0]\n",
    "X_trn.shape"
   ]
  },
  {
   "cell_type": "code",
   "execution_count": 69,
   "metadata": {},
   "outputs": [
    {
     "data": {
      "text/plain": [
       "MiniBatchDictionaryLearning(alpha=1, batch_size=3, dict_init=None,\n",
       "              fit_algorithm='lars', n_components=20, n_iter=1000, n_jobs=1,\n",
       "              random_state=None, shuffle=True, split_sign=False,\n",
       "              transform_algorithm='omp', transform_alpha=None,\n",
       "              transform_n_nonzero_coefs=None, verbose=False)"
      ]
     },
     "execution_count": 69,
     "metadata": {},
     "output_type": "execute_result"
    }
   ],
   "source": [
    "# Learn a dictionary from the training data that's good at\n",
    "# representing these dictionaries\n",
    "mbdlt = MiniBatchDictionaryLearning(20)\n",
    "mbdlt.fit(X_trn.reshape(n_trn, -1))"
   ]
  },
  {
   "cell_type": "code",
   "execution_count": 265,
   "metadata": {},
   "outputs": [],
   "source": [
    "# x_pairs, y_pairs = TrnData.generate_one_shot()\n",
    "x_pairs, y_pairs = ValData.generate_one_shot()\n",
    "\n",
    "# Augment the training images with random affine\n",
    "# transformations to mimic variations in handwritten\n",
    "# characters\n",
    "n_reps = 20\n",
    "n_way = x_pairs[1].shape[0]\n",
    "x, y = augment_it_on_batch(x_pairs[1], np.arange(n_way), n=n_reps)"
   ]
  },
  {
   "cell_type": "code",
   "execution_count": 266,
   "metadata": {},
   "outputs": [
    {
     "data": {
      "text/plain": [
       "0.4117647058823529"
      ]
     },
     "execution_count": 266,
     "metadata": {},
     "output_type": "execute_result"
    }
   ],
   "source": [
    "# Classify by passing the characters through the \n",
    "# filter of the learned dictionary and then performing\n",
    "# nearest neighbors.  Other models like decision trees\n",
    "# etc.  \n",
    "clf = KNeighborsClassifier(n_neighbors=5)\n",
    "\n",
    "trn_features = mbdlt.transform(x.reshape(n_way * (n_reps + 1), -1))\n",
    "tst_features = mbdlt.transform(x_pairs[0].reshape(n_way, -1))\n",
    "\n",
    "clf.fit(trn_features, y)\n",
    "\n",
    "preds = clf.predict(tst_features)\n",
    "np.mean(preds == np.arange(n_way))"
   ]
  },
  {
   "cell_type": "code",
   "execution_count": 267,
   "metadata": {},
   "outputs": [
    {
     "data": {
      "image/png": "[encoded data removed]",
      "text/plain": [
       "<matplotlib.figure.Figure at 0x1d0598860>"
      ]
     },
     "metadata": {},
     "output_type": "display_data"
    }
   ],
   "source": [
    "pairs = [x[:n_way].reshape(n_way, 105, 105, 1), x[4 * n_way:(5 * n_way)].reshape(n_way, 105, 105, 1)]\n",
    "plot_oneshot_task(pairs)"
   ]
  },
  {
   "cell_type": "code",
   "execution_count": 268,
   "metadata": {},
   "outputs": [
    {
     "data": {
      "text/plain": [
       "0.11764705882352941"
      ]
     },
     "execution_count": 268,
     "metadata": {},
     "output_type": "execute_result"
    }
   ],
   "source": [
    "from sklearn.tree import DecisionTreeClassifier\n",
    "\n",
    "clf = DecisionTreeClassifier(max_depth=5)\n",
    "clf.fit(trn_features, y)\n",
    "clf.score(tst_features, np.arange(n_way))"
   ]
  },
  {
   "cell_type": "code",
   "execution_count": 269,
   "metadata": {},
   "outputs": [
    {
     "data": {
      "text/plain": [
       "0.29411764705882354"
      ]
     },
     "execution_count": 269,
     "metadata": {},
     "output_type": "execute_result"
    }
   ],
   "source": [
    "from sklearn.svm import LinearSVC, SVC\n",
    "from sklearn.ensemble import GradientBoostingClassifier\n",
    "\n",
    "clf = SVC(C=0.01, kernel='poly') #LinearSVC(C=0.01)\n",
    "clf.fit(trn_features, y)\n",
    "clf.score(tst_features, np.arange(n_way))"
   ]
  },
  {
   "cell_type": "raw",
   "metadata": {},
   "source": [
    "# This implements the modified Hausdorff method\n",
    "# implemented on Lake's github site.  Problem is\n",
    "# that it moves the ImageAsPoints process into \n",
    "# the distance calculation so that the metric may\n",
    "# be passed to sklearn's KNN classifier, which \n",
    "# is extremely slow.  So maybe just don't run it\n",
    "# for now.  \n",
    "\n",
    "# Of if we want to compare this method to our's\n",
    "# another thing we could do is use the batch sampler\n",
    "# (the y's output by it) to load the files......\n",
    "# From the data-frame, we should be able to re-con\n",
    "# struct the filenames....  Or maybe not.   \n",
    "\n",
    "def ImageAsPoints(I):\n",
    "    I = np.logical_not(I)\n",
    "    (row,col) = I.nonzero()\n",
    "    D = np.array([row,col])\n",
    "    D = np.transpose(D)\n",
    "    D = D.astype(float)\n",
    "    n = D.shape[0]\n",
    "    mean = np.mean(D,axis=0)\n",
    "    for i in range(n):\n",
    "        D[i,:] = D[i,:] - mean\n",
    "    return D\n",
    "\n",
    "def ModHausdorffDistance(itemA,itemB):\n",
    "    \"\"\"\n",
    "    Consolidated functions from Brenden\n",
    "    Lake omniglot github.  \n",
    "    \"\"\"\n",
    "    \n",
    "    # Set 'inked' pixels to 1.\n",
    "    itemA = 1 - itemA.reshape(105, 105)\n",
    "    itemB = 1 - itemB.reshape(105, 105)\n",
    "    \n",
    "    # Isolate 'inked points'\n",
    "    itemA = ImageAsPoints(itemA)\n",
    "    itemB = ImageAsPoints(itemB)\n",
    "    \n",
    "    # Compute modified Hausdorff \n",
    "    # Distance between points.\n",
    "    D = cdist(itemA,itemB)\n",
    "    mindist_A = D.min(axis=1)\n",
    "    mindist_B = D.min(axis=0)\n",
    "    mean_A = np.mean(mindist_A)\n",
    "    mean_B = np.mean(mindist_B)\n",
    "    return max(mean_A,mean_B)"
   ]
  },
  {
   "cell_type": "markdown",
   "metadata": {},
   "source": [
    "The next cells are torturously slow, even just for classifying 20 points.  Would have been better if the images had been loaded as points and this wasn't part of the prediction process, which involves calculating the distances between many points...  But then we wouldn't have been able to use the sklearn's implementation.  "
   ]
  },
  {
   "cell_type": "code",
   "execution_count": 258,
   "metadata": {},
   "outputs": [],
   "source": [
    "clf = KNeighborsClassifier(n_neighbors=1, metric=ModHausdorffDistance)"
   ]
  },
  {
   "cell_type": "code",
   "execution_count": 259,
   "metadata": {},
   "outputs": [
    {
     "data": {
      "text/plain": [
       "KNeighborsClassifier(algorithm='auto', leaf_size=30,\n",
       "           metric=<function ModHausdorffDistance at 0x1f144bea0>,\n",
       "           metric_params=None, n_jobs=1, n_neighbors=1, p=2,\n",
       "           weights='uniform')"
      ]
     },
     "execution_count": 259,
     "metadata": {},
     "output_type": "execute_result"
    }
   ],
   "source": [
    "# clf.fit(x.reshape(n_way * (n_reps + 1), -1), y)\n",
    "clf.fit(x_pairs[1].reshape(n_way, -1), np.arange(n_way))"
   ]
  },
  {
   "cell_type": "code",
   "execution_count": 260,
   "metadata": {},
   "outputs": [
    {
     "data": {
      "text/plain": [
       "0.1"
      ]
     },
     "execution_count": 260,
     "metadata": {},
     "output_type": "execute_result"
    }
   ],
   "source": [
    "clf.score(x_pairs[0].reshape(n_way, -1), np.arange(n_way))"
   ]
  },
  {
   "cell_type": "markdown",
   "metadata": {},
   "source": [
    "Something I'd missed on the Lake application to this is that they transform the image to inked points (so the image is input as 1's = character points and 0's = blank space).  The images are then loaded as the coordinates of all the points that are 1.  \n",
    "\n",
    "This is why the modified Hausdorff metric is applied (because each image is going to consist of a different number of points.  This also sort of explains why the modified Hausdorff metric is performing so poorly here... The metric makes sense if we're comparing distances between the points on two different characters; we're doing nothing of the sort when applying it to raw pixels.   \n",
    "\n",
    "Any extensions of this to what we're doing?  Seems like if this method does o.k. \n",
    "\n",
    "Maybe I should just try running their script then.  "
   ]
  },
  {
   "cell_type": "code",
   "execution_count": 208,
   "metadata": {},
   "outputs": [],
   "source": [
    "def eval(clf, data=ValData, n_evals=10):\n",
    "    accuracies = []\n",
    "    for _ in range(n_evals):\n",
    "        # Generate tasks from validation data\n",
    "        x_pairs, y_pairs = data.generate_one_shot()\n",
    "        n_way = x_pairs[0].shape[0]\n",
    "        x, y = augment_it_on_batch(x_pairs[1], np.arange(n_way), n=n_reps)\n",
    "        \n",
    "        # Transform the data\n",
    "        trn_features = mbdlt.transform(x.reshape(n_way * (n_reps + 1), -1))\n",
    "        tst_features = mbdlt.transform(x_pairs[0].reshape(n_way, -1))\n",
    "        \n",
    "        # Fit classifier to the training data, predict and\n",
    "        # evaluate accuracy.\n",
    "        clf.fit(trn_features, y)\n",
    "        accuracies.append(clf.score(tst_features, np.arange(n_way)))\n",
    "    return np.mean(accuracies)"
   ]
  },
  {
   "cell_type": "code",
   "execution_count": 297,
   "metadata": {},
   "outputs": [],
   "source": [
    "import GPy\n",
    "import GPyOpt\n",
    "\n",
    "parameters = [{'name': 'C',      'type': 'continuous', 'domain': (0.0001, 10)},\n",
    "              {'name': 'gamma',  'type': 'continuous', 'domain': (0.0001, 10)}]\n",
    "\n",
    "def svr_val(params):\n",
    "    params = params[0]\n",
    "    clf = SVC(C=params[0], kernel='poly', gamma=params[1])\n",
    "    return eval(clf)\n",
    "\n",
    "opt = GPyOpt.methods.BayesianOptimization(f=svr_val, \n",
    "                                          domain=parameters,\n",
    "                                          initial_design_numdata = 20,\n",
    "                                          maximize=True,\n",
    "                                          verbosity=True)  "
   ]
  },
  {
   "cell_type": "code",
   "execution_count": 316,
   "metadata": {},
   "outputs": [],
   "source": [
    "opt.run_optimization(max_iter=50)"
   ]
  },
  {
   "cell_type": "code",
   "execution_count": 317,
   "metadata": {},
   "outputs": [
    {
     "data": {
      "image/png": "[encoded data removed]",
      "text/plain": [
       "<matplotlib.figure.Figure at 0x1d7a50198>"
      ]
     },
     "metadata": {},
     "output_type": "display_data"
    }
   ],
   "source": [
    "opt.plot_convergence()"
   ]
  },
  {
   "cell_type": "code",
   "execution_count": 314,
   "metadata": {},
   "outputs": [],
   "source": [
    "best = np.argmin(opt.get_evaluations()[1])"
   ]
  },
  {
   "cell_type": "code",
   "execution_count": 315,
   "metadata": {},
   "outputs": [
    {
     "data": {
      "text/plain": [
       "array([0.17365271, 9.4150622 ])"
      ]
     },
     "execution_count": 315,
     "metadata": {},
     "output_type": "execute_result"
    }
   ],
   "source": [
    "opt.get_evaluations()[0][best]"
   ]
  },
  {
   "cell_type": "code",
   "execution_count": 306,
   "metadata": {},
   "outputs": [
    {
     "data": {
      "text/plain": [
       "0.28025"
      ]
     },
     "execution_count": 306,
     "metadata": {},
     "output_type": "execute_result"
    }
   ],
   "source": [
    "clf = SVC(C=0.26, #8.2, #2.75, #40.7, \n",
    "          kernel='poly', \n",
    "          gamma=1.55) #5.5)\n",
    "eval(clf, data=TstData, n_evals=200)"
   ]
  },
  {
   "cell_type": "code",
   "execution_count": 296,
   "metadata": {},
   "outputs": [
    {
     "data": {
      "text/plain": [
       "0.25325000000000003"
      ]
     },
     "execution_count": 296,
     "metadata": {},
     "output_type": "execute_result"
    }
   ],
   "source": [
    "clf = KNeighborsClassifier(n_neighbors=5)\n",
    "eval(clf, data=TstData, n_evals=200)"
   ]
  },
  {
   "cell_type": "code",
   "execution_count": 263,
   "metadata": {},
   "outputs": [
    {
     "data": {
      "text/plain": [
       "KNeighborsClassifier(algorithm='auto', leaf_size=30,\n",
       "           metric=<function mydist at 0x210db69d8>, metric_params=None,\n",
       "           n_jobs=1, n_neighbors=1, p=2, weights='uniform')"
      ]
     },
     "execution_count": 263,
     "metadata": {},
     "output_type": "execute_result"
    }
   ],
   "source": [
    "clf = KNeighborsClassifier(n_neighbors=1, metric=mydist)\n",
    "clf.fit(x_pairs[1].reshape(n_way, -1), np.arange(n_way))"
   ]
  },
  {
   "cell_type": "code",
   "execution_count": 264,
   "metadata": {},
   "outputs": [
    {
     "data": {
      "text/plain": [
       "0.05"
      ]
     },
     "execution_count": 264,
     "metadata": {},
     "output_type": "execute_result"
    }
   ],
   "source": [
    "clf.score(x_pairs[0].reshape(n_way, -1), np.arange(n_way))"
   ]
  },
  {
   "cell_type": "code",
   "execution_count": null,
   "metadata": {},
   "outputs": [],
   "source": []
  }
 ],
 "metadata": {
  "kernelspec": {
   "display_name": "Python 3",
   "language": "python",
   "name": "python3"
  },
  "language_info": {
   "codemirror_mode": {
    "name": "ipython",
    "version": 3
   },
   "file_extension": ".py",
   "mimetype": "text/x-python",
   "name": "python",
   "nbconvert_exporter": "python",
   "pygments_lexer": "ipython3",
   "version": "3.6.4"
  }
 },
 "nbformat": 4,
 "nbformat_minor": 2
}
