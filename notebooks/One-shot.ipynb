{
 "cells": [
  {
   "cell_type": "markdown",
   "metadata": {},
   "source": [
    "# One-shot Learning and Omniglot\n",
    "\n",
    "The one-shot classification task involves trying to categorize new data based on limited experience, which is something that humans excel at.  A somewhat trite example is the fact that children are able to accurately categorize new objects based on very limited experience; For instance, show a child a single picture of a giraffe and they will most likely be able to accurately categorize future pictures of giraffes.\n",
    "\n",
    "Advances in neural network and computer architecture have combined with accessible software packages to allow for the creation very powerful image and speech recognition models. While this has led to awesome technological advances, these models are often very task specific and require huge amounts of data to train.\n",
    "\n",
    "Nevertheless, there remain many domains where accurate classification is required but limited data is available. Because of this, finding reliable methods for designing and training machine learning models which display the ability to *learn* from limited experience, as children do, and perform well in these situations is an important area of research.\n",
    "\n",
    "### Omniglot Dataset\n",
    "\n",
    "A great example of a dataset where limited examples are available is the [Omniglot dataset](https://github.com/brendenlake/omniglot). This dataset consists of images of 1623 different characters spanning 50 alphabets, with 20 examples of each character (each example having been drawn by a different person).  Because of the fact that this dataset contains a huge number of classes with relatively few examples, it has become colloquially known as the *inverse* of the famous [MNIST dataset](http://yann.lecun.com/exdb/mnist/) which, by contrast contains a large number of examples of relatively few characters (hand drawn images of the numbers 0 through 9).\n",
    "\n",
    "\n",
    "### Classification Task\n",
    "\n",
    "The omniglot dataset has been split into two parts; a background set consisting of 30 alphabets and an evaluation set consisting of 20 alphabets.  The task is to learn models on the background set (which consists of entirely different alphabets from those in the evaluation set) and use these to make 20-way one-shot predictions on the evaluation set.\n",
    "That last sentence is a bit loaded with jargon, so let's spend some time unpacking it.  \n",
    "\n",
    "The image below provides an example of an instance of a 25-way one-shot classification task from the omniglot dataset.  \n",
    "\n",
    "![oneshot task](../reports/figures/task_25.png)\n",
    "\n",
    "We are given a *test image* and provided with 20 examples (which are called the *support set* and is where the 20-way comes from).  These examples represent our limited experience (together with whatever model we have trained on the background set) and it is guaranteed that the test image is of the same character type as exactly one of the 20 examples.  The goal is to accurately pick which one.   \n",
    "\n",
    "As outlined in [Siamese Neural Networks for One-shot Image Recognition](https://www.cs.cmu.edu/~rsalakhu/papers/oneshot1.pdf) by Koch et. al., to evaluate this task:\n",
    " - An alphabet is chosen from among the evaluation set.\n",
    " - 20 characters are sampled without replacement from the alphabet.\n",
    " - Two of the 20 drawers are chosen at random. \n",
    " - The 20 characters of one drawer are assigned to the test set while those of the other are assigned to the support set. \n",
    " - For a given model, for each member of the test set we use our model to predict which member of the support set has the same class. \n",
    " - We can then compare these predictions against the known classes of the test members and use the number of correct classifications to estimate how accurate our model is.\n",
    " - repeating this for a large number of such randomly generated tasks should, by the law of large numbers, give us a decent estimate of the accuracy of our model at 20-way one-shot classification tasks. \n",
    " \n",
    "\n",
    "# Initial Exploration of the Dataset\n",
    "\n",
    "The [raw data](https://github.com/brendenlake/omniglot/tree/master/python) was processed and saved to separate numpy arrays containing image pixels and category information.  This was handled by the script `/src/data/make_dataset.py` in this repository.  "
   ]
  },
  {
   "cell_type": "code",
   "execution_count": 1,
   "metadata": {},
   "outputs": [
    {
     "name": "stdout",
     "output_type": "stream",
     "text": [
      "(19280, 105, 105) (19280, 3) (13180, 105, 105) (13180, 3)\n"
     ]
    }
   ],
   "source": [
    "import numpy as np\n",
    "import pandas as pd\n",
    "\n",
    "# Set seed\n",
    "np.random.seed(0)\n",
    "\n",
    "# Load the background dataset. X_background contains the background\n",
    "# images and y_background class information.\n",
    "train_npz_file = np.load('../data/processed/train.npz')\n",
    "X_background, y_background = train_npz_file['arr_0'], train_npz_file['arr_1']\n",
    "\n",
    "# Load the evaluation dataset. X_evaluation contains the background\n",
    "# images and y_evaluation class information.\n",
    "test_npz_file = np.load('../data/processed/test.npz')\n",
    "X_evaluation, y_evaluation = test_npz_file['arr_0'], test_npz_file['arr_1']\n",
    "\n",
    "# Put the class information in pandas arrays for ease of exploration\n",
    "# and constrained sampling.  \n",
    "y_background_pd = pd.DataFrame(\n",
    "                    data=y_background, \n",
    "                    columns=['Alphabet', 'Character', 'Drawer']\n",
    "    )\n",
    "y_evaluation_pd = pd.DataFrame(\n",
    "                    data=y_evaluation, \n",
    "                    columns=['Alphabet', 'Character', 'Drawer']\n",
    "    )\n",
    "\n",
    "# Check shapes of images.\n",
    "print(X_background.shape, y_background.shape, X_evaluation.shape, y_evaluation.shape)"
   ]
  },
  {
   "cell_type": "markdown",
   "metadata": {},
   "source": [
    "We can get a grip on the specifics of the dataset by looking at some queries from the dataframes.  Let's make sure that the basic info above is matched by what we loaded in:"
   ]
  },
  {
   "cell_type": "code",
   "execution_count": 2,
   "metadata": {},
   "outputs": [
    {
     "name": "stdout",
     "output_type": "stream",
     "text": [
      "There are 30 alphabets in the background set and 20 in the evaluation set.\n",
      "This gives a total of 50 alphabets in the dataset. \n",
      "\n",
      "There are 964 characters in the background set and 659 in the evaluation set.\n",
      "This gives a total of 1623 characters in the dataset. \n",
      "\n",
      "The smallest alphabet in the background set has 20.0 drawers. while the largest alphabet \n",
      "in the background set has 20 drawers.\n",
      "\n",
      "The smallest alphabet in the evaluation set has 20.0 drawers. while the largest alphabet \n",
      "in the evaluation set has 20 drawers.\n"
     ]
    }
   ],
   "source": [
    "# Number of alphabets in the background and evaluation sets\n",
    "n_b_al = y_background_pd.Alphabet.unique().shape[0]\n",
    "n_e_al = y_evaluation_pd.Alphabet.unique().shape[0]\n",
    "print('There are {} alphabets in the background set and {} in the evaluation set.'.format(\n",
    "                            n_b_al, n_e_al\n",
    "))\n",
    "print('This gives a total of {} alphabets in the dataset.'.format(\n",
    "                            n_b_al + n_e_al\n",
    "), '\\n')\n",
    "\n",
    "\n",
    "# Number of characters in the background and evaluation sets\n",
    "n_b_ch = y_background_pd.groupby(['Alphabet', 'Character']).max().shape[0]\n",
    "n_e_ch = y_evaluation_pd.groupby(['Alphabet', 'Character']).max().shape[0]\n",
    "print('There are {} characters in the background set and {} in the evaluation set.'.format(\n",
    "                            n_b_ch, n_e_ch\n",
    "))\n",
    "print('This gives a total of {} characters in the dataset.'.format(\n",
    "                            n_b_ch + n_e_ch\n",
    "), '\\n')\n",
    "\n",
    "# Check that the number of drawers is the same in each set and\n",
    "# find the total number of characters\n",
    "n_drawers_b = y_background_pd.Drawer.unique().shape[0]\n",
    "min_max_b = y_background_pd.groupby(['Alphabet', 'Character']).max().min().values[0]\n",
    "n_drawers_e = y_evaluation_pd.Drawer.unique().shape[0]\n",
    "min_max_e = y_evaluation_pd.groupby(['Alphabet', 'Character']).max().min().values[0]\n",
    "print('The smallest alphabet in the background set has {} drawers.'.format(min_max_b) + \\\n",
    "      ' while the largest alphabet \\nin the background set has {} drawers.\\n'.format(n_drawers_b))\n",
    "print('The smallest alphabet in the evaluation set has {} drawers.'.format(min_max_e) + \\\n",
    "      ' while the largest alphabet \\nin the evaluation set has {} drawers.'.format(n_drawers_e))"
   ]
  },
  {
   "cell_type": "markdown",
   "metadata": {},
   "source": [
    "This confirms that the loading in of the alphabets maintained the basic stats that were outlined above regarding number alphabets, characters, drawers and the splits between the datasets.  For evaluating models, we'll further split the background set into training and validation sets."
   ]
  },
  {
   "cell_type": "code",
   "execution_count": 3,
   "metadata": {},
   "outputs": [],
   "source": [
    "# Further split the background set into training and validation sets\n",
    "# by reserving a fraction of the 20 drawers for validation:\n",
    "# --> first isolate the unique drawers (there are 20 of these)\n",
    "# --> randomly select 16 of these to send to training set and the remaining 4 to validation \n",
    "drawers = y_background_pd.Drawer.unique()\n",
    "trn_drawers = np.random.choice(drawers, 16, replace=False)\n",
    "trn_inds = y_background_pd.Drawer.isin(trn_drawers)\n",
    "X_trn, y_trn = X_background[trn_inds], y_background[trn_inds]\n",
    "X_val, y_val = X_background[~trn_inds], y_background[~trn_inds]"
   ]
  },
  {
   "cell_type": "markdown",
   "metadata": {},
   "source": [
    "Now that we've split into training and validation sets for experimenting with modelling, I'll also in a class to help with generating one-shot tasks. Also get autoreload going in case any editing needs to be done."
   ]
  },
  {
   "cell_type": "code",
   "execution_count": 4,
   "metadata": {},
   "outputs": [],
   "source": [
    "import os\n",
    "import sys\n",
    "new_path = os.getcwd() + '/../src'\n",
    "if new_path not in sys.path:\n",
    "    sys.path.append(new_path)\n",
    "\n",
    "%load_ext autoreload\n",
    "%autoreload 2"
   ]
  },
  {
   "cell_type": "code",
   "execution_count": 194,
   "metadata": {},
   "outputs": [
    {
     "name": "stdout",
     "output_type": "stream",
     "text": [
      "Below is a one-shot sample of characters from the Burmese_(Myanmar) alphabet. The sampled characters are at the same positions in both test and support plots.\n",
      "\n"
     ]
    },
    {
     "data": {
      "image/png": "[encoded data removed]",
      "text/plain": [
       "<Figure size 1008x864 with 2 Axes>"
      ]
     },
     "metadata": {},
     "output_type": "display_data"
    }
   ],
   "source": [
    "from data.data_utils import OneShotGenerator\n",
    "from data.data_utils import plot_oneshot_task\n",
    "\n",
    "TrnData = OneShotGenerator(X_trn, y_trn)\n",
    "ValData = OneShotGenerator(X_val, y_val)\n",
    "TstData = OneShotGenerator(X_evaluation, y_evaluation)\n",
    "\n",
    "x_pairs, y_pairs = TrnData.generate_one_shot()\n",
    "\n",
    "print('Below is a one-shot sample of characters from the {} alphabet.'.format(\n",
    "                        y_pairs[0].Alphabet.iloc[0]) + \\\n",
    "      ' The sampled characters are at the same positions in both test and support plots.\\n')\n",
    "pairs = [x_pairs[0].reshape(20, 105, 105, 1), x_pairs[1].reshape(20, 105, 105, 1)]\n",
    "# Note, the plot may fail sometimes since the training data has alphabets with less than\n",
    "# 20 characters.  In this case, the OneShotGenerator samples test and support examples of\n",
    "# the entire alphabet (from two randomly selected drawers).  The plot_oneshot (which was\n",
    "# disigned to plot 20-way tasks) fails in this case.  Re-running the cell should generate\n",
    "# a new sample that works.\n",
    "plot_oneshot_task(pairs)"
   ]
  },
  {
   "cell_type": "markdown",
   "metadata": {},
   "source": [
    "### Model Exploration: Nearest Neighbors\n",
    "\n",
    "Nearest neighbors (NN) models provide a simple way of approaching this kind of task.  In this context, in order order to predict the class of a test image, such a model would:\n",
    " - Find the(or a group of) *closest* element(s) of the support set.\n",
    " - Use the class(es) of that(ose) element(s) to predict the class of the test image. \n",
    "\n",
    "NN models are simple to implent and often perform unexpectedly well given their simplicity.  Nevertheless, there are drawbacks that are immediately apparent for this task:\n",
    "  - Given the one-shot nature of this problem, it would really only make sense to use the closest image in this context. Often, though, NN methods perform better when we can use more than one of the *closest* support set images to to classify the test image (as we can outvote mistakes).\n",
    "  - As we can see by comparing the test and support images above, two examples of the same character often lie at different locations and have different scaling and orientation. This may conspire to guarantee that in comparing, for instance, euclidean distance between raw pixel values of images in order to find a *closest* match could easily result in returning the wrong example. \n",
    "  \n",
    "Nevertheless, let's forge forth and try out a nearest neighbor model on some samples from the training set. "
   ]
  },
  {
   "cell_type": "code",
   "execution_count": 7,
   "metadata": {},
   "outputs": [
    {
     "name": "stdout",
     "output_type": "stream",
     "text": [
      "The estimated accuracy of 20-way one-shot by NN with Minkowski metric ata p value of 1 is: 0.16549579831932776 \n",
      "\n",
      "The estimated accuracy of 20-way one-shot by NN with Minkowski metric ata p value of 1.5 is: 0.19457142857142856 \n",
      "\n",
      "The estimated accuracy of 20-way one-shot by NN with Minkowski metric ata p value of 2 is: 0.17879831932773105 \n",
      "\n",
      "The estimated accuracy of 20-way one-shot by NN with Minkowski metric ata p value of 2.5 is: 0.17128151260504204 \n",
      "\n",
      "The estimated accuracy of 20-way one-shot by NN with Minkowski metric ata p value of 3 is: 0.1847142857142857 \n",
      "\n"
     ]
    }
   ],
   "source": [
    "from sklearn.neighbors import KNeighborsClassifier\n",
    "\n",
    "def evaluate_nn(m=400, p=2, data=TrnData):\n",
    "    accuracies = []\n",
    "    for i in range(m):\n",
    "        x_pairs, _ = data.generate_one_shot()\n",
    "        n_way = x_pairs[0].shape[0]\n",
    "        nn_clf = KNeighborsClassifier(n_neighbors=1, p=p)\n",
    "        nn_clf.fit(x_pairs[1].reshape(n_way, -1), np.arange(n_way))\n",
    "        preds = nn_clf.predict(x_pairs[0].reshape(n_way, -1))\n",
    "        accuracies.append(np.mean(preds == np.arange(n_way)))\n",
    "    return np.mean(accuracies)\n",
    "\n",
    "for p in [1, 1.5, 2, 2.5, 3]:\n",
    "    print('The estimated accuracy of 20-way one-shot by NN with Minkowski metric at' + \\\n",
    "          'a p value of {} is: {} \\n'.format(p, evaluate_nn(m=50, p=p)))"
   ]
  },
  {
   "cell_type": "markdown",
   "metadata": {},
   "source": [
    "Nearest neighbors with Minkowski metric looks quite underwhelming.  These values look on par with what was reported in the [Siamese Neural Networks for One-shot Image Recognition](https://www.cs.cmu.edu/~rsalakhu/papers/oneshot1.pdf) paper for NN, which was about 20% accuracy.  Maybe some transformations of the data could help with this by, for instance, restricting comparisons to the dimensions of maximal variation.     "
   ]
  },
  {
   "cell_type": "code",
   "execution_count": 103,
   "metadata": {},
   "outputs": [],
   "source": [
    "from sklearn.decomposition import PCA, KernelPCA, MiniBatchSparsePCA, TruncatedSVD\n",
    "from sklearn.neighbors import KNeighborsClassifier\n",
    "from sklearn.svm import LinearSVC"
   ]
  },
  {
   "cell_type": "markdown",
   "metadata": {},
   "source": [
    "Let's import some useful modules and try finding a transformation that accounts for alot of the variability of the training data using something quite flexible like Kernel PCA.  We find that retaining 15 dimensions and using these for the classification task seems to improve the accuracy quite a bit (at least on the training data)."
   ]
  },
  {
   "cell_type": "code",
   "execution_count": 105,
   "metadata": {},
   "outputs": [
    {
     "name": "stderr",
     "output_type": "stream",
     "text": [
      "/home/mark/anaconda3/envs/one-shot/lib/python3.6/site-packages/sklearn/decomposition/sparse_pca.py:405: DeprecationWarning: normalize_components=False is a backward-compatible setting that implements a non-standard definition of sparse PCA. This compatibility mode will be removed in 0.22.\n",
      "  DeprecationWarning)\n"
     ]
    },
    {
     "data": {
      "text/plain": [
       "TruncatedSVD(algorithm='randomized', n_components=15, n_iter=5,\n",
       "       random_state=None, tol=0.0)"
      ]
     },
     "execution_count": 105,
     "metadata": {},
     "output_type": "execute_result"
    }
   ],
   "source": [
    "# Fit some feature transformations using the training\n",
    "# Data.  This might take a while...   \n",
    "n_trn = X_trn.shape[0]\n",
    "\n",
    "PCA_Transform = PCA(n_components=15)\n",
    "PCA_Transform.fit(X_trn.reshape(n_trn, -1))\n",
    "\n",
    "KPCA_Transform = KernelPCA(n_components=15, kernel='rbf')\n",
    "KPCA_Transform.fit(X_trn.reshape(n_trn, -1))\n",
    "\n",
    "MBSPCA_Transform = MiniBatchSparsePCA(n_components=15)\n",
    "MBSPCA_Transform.fit(X_trn.reshape(n_trn, -1))\n",
    "\n",
    "TSVD_Transform = TruncatedSVD(n_components=15)\n",
    "TSVD_Transform.fit(X_trn.reshape(n_trn, -1))"
   ]
  },
  {
   "cell_type": "code",
   "execution_count": 214,
   "metadata": {},
   "outputs": [
    {
     "data": {
      "text/plain": [
       "0.15"
      ]
     },
     "execution_count": 214,
     "metadata": {},
     "output_type": "execute_result"
    }
   ],
   "source": [
    "# Now see how we do using this transformation\n",
    "# Generate a one-shot task\n",
    "x_pairs, y_pairs = TrnData.generate_one_shot()\n",
    "n_way = x_pairs[0].shape[0]\n",
    "\n",
    "trn_features = KPCA_Transform.transform(x_pairs[1].reshape(n_way, -1))\n",
    "tst_features = KPCA_Transform.transform(x_pairs[0].reshape(n_way, -1))\n",
    "\n",
    "# Fit a nearest neighbors model to the support set\n",
    "clf = KNeighborsClassifier(n_neighbors=1)\n",
    "clf.fit(trn_features, np.arange(n_way))\n",
    "\n",
    "# Check out the classification error\n",
    "clf.score(tst_features, np.arange(n_way))"
   ]
  },
  {
   "cell_type": "code",
   "execution_count": 205,
   "metadata": {},
   "outputs": [],
   "source": [
    "def eval(clf, trans, m=50, data=TrnData):\n",
    "    accuracies = []\n",
    "    for _ in range(m):\n",
    "        x_pairs, y_pairs = data.generate_one_shot()\n",
    "        n_way = x_pairs[0].shape[0]\n",
    "\n",
    "        trn_features = trans.transform(x_pairs[1].reshape(n_way, -1))\n",
    "        tst_features = trans.transform(x_pairs[0].reshape(n_way, -1))\n",
    "\n",
    "        clf.fit(trn_features, np.arange(n_way))\n",
    "        accuracies.append(clf.score(tst_features, np.arange(n_way)))\n",
    "    return np.mean(accuracies)"
   ]
  },
  {
   "cell_type": "code",
   "execution_count": 148,
   "metadata": {},
   "outputs": [
    {
     "data": {
      "text/plain": [
       "0.26242857142857146"
      ]
     },
     "execution_count": 148,
     "metadata": {},
     "output_type": "execute_result"
    }
   ],
   "source": [
    "eval(KNeighborsClassifier(n_neighbors=1), TSVD_Transform, data=ValData)"
   ]
  },
  {
   "cell_type": "markdown",
   "metadata": {},
   "source": [
    "The transformations seem to be upping the accuracy quite a bit.  Maybe cut out the clutter in these cells and run to get a nice printout.  Certainly seems to have boosted things quite a bit over where we were at with vanilla NN."
   ]
  },
  {
   "cell_type": "code",
   "execution_count": 149,
   "metadata": {},
   "outputs": [],
   "source": [
    "from imgaug import augmenters as iaa\n",
    "from sklearn.decomposition import MiniBatchDictionaryLearning"
   ]
  },
  {
   "cell_type": "code",
   "execution_count": 150,
   "metadata": {},
   "outputs": [],
   "source": [
    "aug = iaa.Affine(scale=(0.8, 1.2), translate_px=(-5, 5), rotate=(-18, 18), cval=1)"
   ]
  },
  {
   "cell_type": "code",
   "execution_count": 151,
   "metadata": {},
   "outputs": [],
   "source": [
    "# Expands a batch of images by including random rotations, translations,\n",
    "# etc.  Augmenting things to mimic natural variations in handwriting.\n",
    "def augment_it_on_batch(x, y, n=5):\n",
    "    n_way = x.shape[0]\n",
    "    new_x = np.copy(x)\n",
    "    for i in range(n):\n",
    "        new_x = np.concatenate(\n",
    "                (new_x, aug.augment_images(x).reshape(n_way, 105, 105))\n",
    "                )\n",
    "    return new_x, np.tile(y, n + 1)"
   ]
  },
  {
   "cell_type": "code",
   "execution_count": 152,
   "metadata": {},
   "outputs": [],
   "source": [
    "# x_pairs, y_pairs = TrnData.generate_one_shot()\n",
    "x_pairs, y_pairs = TstData.generate_one_shot()"
   ]
  },
  {
   "cell_type": "code",
   "execution_count": 153,
   "metadata": {},
   "outputs": [],
   "source": [
    "n_reps = 200\n",
    "n_way = x_pairs[1].shape[0]\n",
    "x, y = augment_it_on_batch(x_pairs[1], np.arange(n_way), n=n_reps)"
   ]
  },
  {
   "cell_type": "code",
   "execution_count": 154,
   "metadata": {},
   "outputs": [
    {
     "data": {
      "text/plain": [
       "0.25"
      ]
     },
     "execution_count": 154,
     "metadata": {},
     "output_type": "execute_result"
    }
   ],
   "source": [
    "clf = Pipeline([\n",
    "            ('MBDL', MiniBatchDictionaryLearning(n_components=20)),\n",
    "            # ('TSVD', TruncatedSVD(n_components=20)),\n",
    "            # ('KPCA', KernelPCA(n_components=25, kernel='rbf')), \n",
    "            ('NN', KNeighborsClassifier(n_neighbors=5))\n",
    "        ])\n",
    "\n",
    "clf.fit(x.reshape(n_way * (n_reps + 1), -1), y)\n",
    "preds = clf.predict(x_pairs[0].reshape(n_way, -1))\n",
    "np.mean(preds == np.arange(n_way))"
   ]
  },
  {
   "cell_type": "code",
   "execution_count": 67,
   "metadata": {},
   "outputs": [
    {
     "data": {
      "image/png": "[encoded data removed]",
      "text/plain": [
       "<matplotlib.figure.Figure at 0x1f1c54160>"
      ]
     },
     "metadata": {},
     "output_type": "display_data"
    }
   ],
   "source": [
    "pairs = [x[:n_way].reshape(n_way, 105, 105, 1), x[4 * n_way:(5 * n_way)].reshape(n_way, 105, 105, 1)]\n",
    "plot_oneshot_task(pairs)"
   ]
  },
  {
   "cell_type": "markdown",
   "metadata": {},
   "source": [
    "Here the transformation is fit on the training data. Once the model is chosen by comparison on validation, we should use the whole background set (possibly augmented) to fit the transformation before using whatever method we choose to make predictions on the test data."
   ]
  },
  {
   "cell_type": "code",
   "execution_count": 155,
   "metadata": {},
   "outputs": [
    {
     "data": {
      "text/plain": [
       "(15424, 105, 105)"
      ]
     },
     "execution_count": 155,
     "metadata": {},
     "output_type": "execute_result"
    }
   ],
   "source": [
    "n_trn = X_trn.shape[0]\n",
    "X_trn.shape"
   ]
  },
  {
   "cell_type": "code",
   "execution_count": 156,
   "metadata": {},
   "outputs": [
    {
     "data": {
      "text/plain": [
       "MiniBatchDictionaryLearning(alpha=1, batch_size=3, dict_init=None,\n",
       "              fit_algorithm='lars', n_components=20, n_iter=1000,\n",
       "              n_jobs=None, positive_code=False, positive_dict=False,\n",
       "              random_state=None, shuffle=True, split_sign=False,\n",
       "              transform_algorithm='omp', transform_alpha=None,\n",
       "              transform_n_nonzero_coefs=None, verbose=False)"
      ]
     },
     "execution_count": 156,
     "metadata": {},
     "output_type": "execute_result"
    }
   ],
   "source": [
    "# Learn a dictionary from the training data that's good at\n",
    "# representing these dictionaries\n",
    "mbdlt = MiniBatchDictionaryLearning(20)\n",
    "mbdlt.fit(X_trn.reshape(n_trn, -1))"
   ]
  },
  {
   "cell_type": "code",
   "execution_count": 173,
   "metadata": {},
   "outputs": [],
   "source": [
    "# x_pairs, y_pairs = TrnData.generate_one_shot()\n",
    "x_pairs, y_pairs = ValData.generate_one_shot()\n",
    "\n",
    "# Augment the training images with random affine\n",
    "# transformations to mimic variations in handwritten\n",
    "# characters\n",
    "n_reps = 20\n",
    "n_way = x_pairs[1].shape[0]\n",
    "x, y = augment_it_on_batch(x_pairs[1], np.arange(n_way), n=n_reps)"
   ]
  },
  {
   "cell_type": "code",
   "execution_count": 178,
   "metadata": {},
   "outputs": [
    {
     "data": {
      "text/plain": [
       "0.25"
      ]
     },
     "execution_count": 178,
     "metadata": {},
     "output_type": "execute_result"
    }
   ],
   "source": [
    "# Classify by passing the characters through the \n",
    "# filter of the learned dictionary and then performing\n",
    "# nearest neighbors.  Other models like decision trees\n",
    "# etc.  \n",
    "clf = KNeighborsClassifier(n_neighbors=5)\n",
    "\n",
    "trn_features = mbdlt.transform(x.reshape(n_way * (n_reps + 1), -1))\n",
    "tst_features = mbdlt.transform(x_pairs[0].reshape(n_way, -1))\n",
    "\n",
    "clf.fit(trn_features, y)\n",
    "clf.score(tst_features, np.arange(n_way))"
   ]
  },
  {
   "cell_type": "code",
   "execution_count": 179,
   "metadata": {},
   "outputs": [
    {
     "data": {
      "image/png": "[encoded data removed]",
      "text/plain": [
       "<Figure size 1008x864 with 2 Axes>"
      ]
     },
     "metadata": {},
     "output_type": "display_data"
    }
   ],
   "source": [
    "pairs = [x[:n_way].reshape(n_way, 105, 105, 1), x[4 * n_way:(5 * n_way)].reshape(n_way, 105, 105, 1)]\n",
    "plot_oneshot_task(pairs)"
   ]
  },
  {
   "cell_type": "code",
   "execution_count": 180,
   "metadata": {},
   "outputs": [
    {
     "data": {
      "text/plain": [
       "0.0"
      ]
     },
     "execution_count": 180,
     "metadata": {},
     "output_type": "execute_result"
    }
   ],
   "source": [
    "from sklearn.tree import DecisionTreeClassifier\n",
    "\n",
    "clf = DecisionTreeClassifier(max_depth=5)\n",
    "clf.fit(trn_features, y)\n",
    "clf.score(tst_features, np.arange(n_way))"
   ]
  },
  {
   "cell_type": "code",
   "execution_count": 182,
   "metadata": {},
   "outputs": [
    {
     "name": "stderr",
     "output_type": "stream",
     "text": [
      "/home/mark/anaconda3/envs/one-shot/lib/python3.6/site-packages/sklearn/svm/base.py:196: FutureWarning: The default value of gamma will change from 'auto' to 'scale' in version 0.22 to account better for unscaled features. Set gamma explicitly to 'auto' or 'scale' to avoid this warning.\n",
      "  \"avoid this warning.\", FutureWarning)\n"
     ]
    },
    {
     "data": {
      "text/plain": [
       "0.15"
      ]
     },
     "execution_count": 182,
     "metadata": {},
     "output_type": "execute_result"
    }
   ],
   "source": [
    "from sklearn.svm import LinearSVC, SVC\n",
    "from sklearn.ensemble import GradientBoostingClassifier\n",
    "\n",
    "clf = SVC(C=0.01, kernel='poly') #LinearSVC(C=0.01)\n",
    "clf.fit(trn_features, y)\n",
    "clf.score(tst_features, np.arange(n_way))"
   ]
  },
  {
   "cell_type": "code",
   "execution_count": 195,
   "metadata": {},
   "outputs": [],
   "source": [
    "def eval(clf, data=ValData, n_evals=10, n_reps=20):\n",
    "    accuracies = []\n",
    "    for _ in range(n_evals):\n",
    "        # Generate tasks from validation data\n",
    "        x_pairs, y_pairs = data.generate_one_shot()\n",
    "        n_way = x_pairs[0].shape[0]\n",
    "        x, y = augment_it_on_batch(x_pairs[1], np.arange(n_way), n=n_reps)\n",
    "        \n",
    "        # Transform the data\n",
    "        trn_features = mbdlt.transform(x.reshape(n_way * (n_reps + 1), -1))\n",
    "        tst_features = mbdlt.transform(x_pairs[0].reshape(n_way, -1))\n",
    "        \n",
    "        # Fit classifier to the training data, predict and\n",
    "        # evaluate accuracy.\n",
    "        clf.fit(trn_features, y)\n",
    "        accuracies.append(clf.score(tst_features, np.arange(n_way)))\n",
    "    return np.mean(accuracies)"
   ]
  },
  {
   "cell_type": "code",
   "execution_count": 196,
   "metadata": {},
   "outputs": [],
   "source": [
    "import GPy\n",
    "import GPyOpt\n",
    "\n",
    "parameters = [{'name': 'C',      'type': 'continuous', 'domain': (0.0001, 10)},\n",
    "              {'name': 'gamma',  'type': 'continuous', 'domain': (0.0001, 10)}]\n",
    "\n",
    "def svr_val(params):\n",
    "    params = params[0]\n",
    "    clf = SVC(C=params[0], kernel='poly', gamma=params[1])\n",
    "    return eval(clf)\n",
    "\n",
    "opt = GPyOpt.methods.BayesianOptimization(f=svr_val, \n",
    "                                          domain=parameters,\n",
    "                                          initial_design_numdata = 10,\n",
    "                                          num_cores=5,\n",
    "                                          maximize=True,\n",
    "                                          verbosity=True)  q"
   ]
  },
  {
   "cell_type": "code",
   "execution_count": 197,
   "metadata": {},
   "outputs": [],
   "source": [
    "opt.run_optimization(max_iter=60)"
   ]
  },
  {
   "cell_type": "code",
   "execution_count": 199,
   "metadata": {},
   "outputs": [
    {
     "data": {
      "image/png": "[encoded data removed]",
      "text/plain": [
       "<Figure size 720x360 with 2 Axes>"
      ]
     },
     "metadata": {
      "needs_background": "light"
     },
     "output_type": "display_data"
    }
   ],
   "source": [
    "opt.plot_convergence()"
   ]
  },
  {
   "cell_type": "code",
   "execution_count": 188,
   "metadata": {},
   "outputs": [],
   "source": [
    "best = np.argmin(opt.get_evaluations()[1])"
   ]
  },
  {
   "cell_type": "code",
   "execution_count": 189,
   "metadata": {},
   "outputs": [
    {
     "data": {
      "text/plain": [
       "array([1.21602256, 4.79400334])"
      ]
     },
     "execution_count": 189,
     "metadata": {},
     "output_type": "execute_result"
    }
   ],
   "source": [
    "opt.get_evaluations()[0][best]"
   ]
  },
  {
   "cell_type": "code",
   "execution_count": 193,
   "metadata": {},
   "outputs": [
    {
     "data": {
      "text/plain": [
       "0.3180262605042017"
      ]
     },
     "execution_count": 193,
     "metadata": {},
     "output_type": "execute_result"
    }
   ],
   "source": [
    "clf = SVC(C=1.22, #0.26, #8.2, #2.75, #40.7, \n",
    "          kernel='poly', \n",
    "          gamma=4.79) #1.55) #5.5)\n",
    "          \n",
    "eval(clf, data=ValData, n_evals=200)"
   ]
  },
  {
   "cell_type": "code",
   "execution_count": 191,
   "metadata": {},
   "outputs": [
    {
     "data": {
      "text/plain": [
       "0.2865283613445378"
      ]
     },
     "execution_count": 191,
     "metadata": {},
     "output_type": "execute_result"
    }
   ],
   "source": [
    "clf = KNeighborsClassifier(n_neighbors=5)\n",
    "eval(clf, data=ValData, n_evals=200)"
   ]
  },
  {
   "cell_type": "code",
   "execution_count": 215,
   "metadata": {},
   "outputs": [],
   "source": [
    "a = MiniBatchDictionaryLearning()"
   ]
  },
  {
   "cell_type": "code",
   "execution_count": 216,
   "metadata": {},
   "outputs": [],
   "source": [
    "a.n_components = 15"
   ]
  },
  {
   "cell_type": "code",
   "execution_count": 217,
   "metadata": {},
   "outputs": [
    {
     "data": {
      "text/plain": [
       "MiniBatchDictionaryLearning(alpha=1, batch_size=3, dict_init=None,\n",
       "              fit_algorithm='lars', n_components=15, n_iter=1000,\n",
       "              n_jobs=None, positive_code=False, positive_dict=False,\n",
       "              random_state=None, shuffle=True, split_sign=False,\n",
       "              transform_algorithm='omp', transform_alpha=None,\n",
       "              transform_n_nonzero_coefs=None, verbose=False)"
      ]
     },
     "execution_count": 217,
     "metadata": {},
     "output_type": "execute_result"
    }
   ],
   "source": [
    "a"
   ]
  },
  {
   "cell_type": "code",
   "execution_count": 218,
   "metadata": {},
   "outputs": [],
   "source": [
    "a.n_components = 3"
   ]
  },
  {
   "cell_type": "code",
   "execution_count": 219,
   "metadata": {},
   "outputs": [
    {
     "data": {
      "text/plain": [
       "MiniBatchDictionaryLearning(alpha=1, batch_size=3, dict_init=None,\n",
       "              fit_algorithm='lars', n_components=3, n_iter=1000,\n",
       "              n_jobs=None, positive_code=False, positive_dict=False,\n",
       "              random_state=None, shuffle=True, split_sign=False,\n",
       "              transform_algorithm='omp', transform_alpha=None,\n",
       "              transform_n_nonzero_coefs=None, verbose=False)"
      ]
     },
     "execution_count": 219,
     "metadata": {},
     "output_type": "execute_result"
    }
   ],
   "source": [
    "a"
   ]
  },
  {
   "cell_type": "code",
   "execution_count": 222,
   "metadata": {},
   "outputs": [],
   "source": [
    "l1 = {'mbdl': MiniBatchDictionaryLearning, 'tsvd': TruncatedSVD}\n",
    "l2 = [15, 20]\n",
    "d = {}\n",
    "for key, val in l1.items():\n",
    "    for nc in l2:\n",
    "        d[key + '_' + str(nc)] = val(n_components=nc)"
   ]
  },
  {
   "cell_type": "code",
   "execution_count": 223,
   "metadata": {},
   "outputs": [
    {
     "data": {
      "text/plain": [
       "{'mbdl_15': MiniBatchDictionaryLearning(alpha=1, batch_size=3, dict_init=None,\n",
       "               fit_algorithm='lars', n_components=15, n_iter=1000,\n",
       "               n_jobs=None, positive_code=False, positive_dict=False,\n",
       "               random_state=None, shuffle=True, split_sign=False,\n",
       "               transform_algorithm='omp', transform_alpha=None,\n",
       "               transform_n_nonzero_coefs=None, verbose=False),\n",
       " 'mbdl_20': MiniBatchDictionaryLearning(alpha=1, batch_size=3, dict_init=None,\n",
       "               fit_algorithm='lars', n_components=20, n_iter=1000,\n",
       "               n_jobs=None, positive_code=False, positive_dict=False,\n",
       "               random_state=None, shuffle=True, split_sign=False,\n",
       "               transform_algorithm='omp', transform_alpha=None,\n",
       "               transform_n_nonzero_coefs=None, verbose=False),\n",
       " 'tsvd_15': TruncatedSVD(algorithm='randomized', n_components=15, n_iter=5,\n",
       "        random_state=None, tol=0.0),\n",
       " 'tsvd_20': TruncatedSVD(algorithm='randomized', n_components=20, n_iter=5,\n",
       "        random_state=None, tol=0.0)}"
      ]
     },
     "execution_count": 223,
     "metadata": {},
     "output_type": "execute_result"
    }
   ],
   "source": [
    "d"
   ]
  },
  {
   "cell_type": "code",
   "execution_count": 225,
   "metadata": {},
   "outputs": [],
   "source": [
    "for key in d.keys():\n",
    "    d[key].fit(X_trn[:100].reshape(100, -1))"
   ]
  },
  {
   "cell_type": "code",
   "execution_count": 228,
   "metadata": {},
   "outputs": [
    {
     "name": "stdout",
     "output_type": "stream",
     "text": [
      "1.77 s ± 135 ms per loop (mean ± std. dev. of 7 runs, 1 loop each)\n"
     ]
    }
   ],
   "source": [
    "%timeit PCA(n_components=20).fit(X_trn.reshape(X_trn.shape[0], -1))"
   ]
  },
  {
   "cell_type": "code",
   "execution_count": 229,
   "metadata": {},
   "outputs": [
    {
     "name": "stdout",
     "output_type": "stream",
     "text": [
      "1.22 s ± 69.3 ms per loop (mean ± std. dev. of 7 runs, 1 loop each)\n"
     ]
    }
   ],
   "source": [
    "%timeit TruncatedSVD(n_components=20).fit(X_trn.reshape(X_trn.shape[0], -1))"
   ]
  },
  {
   "cell_type": "code",
   "execution_count": 231,
   "metadata": {},
   "outputs": [],
   "source": [
    "def svr_val(trans):\n",
    "    def f(params):\n",
    "        params = params[0]\n",
    "        clf = SVC(C=params[0], kernel='poly', gamma=params[1])\n",
    "        return eval(clf, trans)\n",
    "    return f"
   ]
  },
  {
   "cell_type": "code",
   "execution_count": 232,
   "metadata": {},
   "outputs": [],
   "source": [
    "f = svr_val(mbdlt)"
   ]
  },
  {
   "cell_type": "code",
   "execution_count": 237,
   "metadata": {},
   "outputs": [
    {
     "data": {
      "text/plain": [
       "0.14011344537815124"
      ]
     },
     "execution_count": 237,
     "metadata": {},
     "output_type": "execute_result"
    }
   ],
   "source": [
    "f([[1.2, 4.2]])"
   ]
  },
  {
   "cell_type": "code",
   "execution_count": 238,
   "metadata": {},
   "outputs": [],
   "source": [
    "d = {'a': opt.get_evaluations()}"
   ]
  },
  {
   "cell_type": "code",
   "execution_count": 240,
   "metadata": {},
   "outputs": [],
   "source": [
    "d['b'] = np.random.randn(200, 2)"
   ]
  },
  {
   "cell_type": "code",
   "execution_count": 244,
   "metadata": {},
   "outputs": [],
   "source": [
    "import pickle"
   ]
  },
  {
   "cell_type": "code",
   "execution_count": 254,
   "metadata": {},
   "outputs": [
    {
     "data": {
      "text/plain": [
       "2"
      ]
     },
     "execution_count": 254,
     "metadata": {},
     "output_type": "execute_result"
    }
   ],
   "source": [
    "len(d.keys())"
   ]
  },
  {
   "cell_type": "code",
   "execution_count": 255,
   "metadata": {},
   "outputs": [
    {
     "name": "stdout",
     "output_type": "stream",
     "text": [
      "/home/mark/Documents/projects/one-shot/notebooks\n"
     ]
    }
   ],
   "source": [
    "!pwd"
   ]
  },
  {
   "cell_type": "code",
   "execution_count": 256,
   "metadata": {},
   "outputs": [],
   "source": [
    "with open('../models/svc_opt_results.pickle', 'rb') as handle:\n",
    "    trial_data = pickle.load(handle)"
   ]
  },
  {
   "cell_type": "code",
   "execution_count": 265,
   "metadata": {},
   "outputs": [
    {
     "data": {
      "text/plain": [
       "array([84.07880908, 21.64522823])"
      ]
     },
     "execution_count": 265,
     "metadata": {},
     "output_type": "execute_result"
    }
   ],
   "source": [
    "trial_data['tsvd_10'][0][7]"
   ]
  },
  {
   "cell_type": "code",
   "execution_count": null,
   "metadata": {},
   "outputs": [],
   "source": []
  }
 ],
 "metadata": {
  "kernelspec": {
   "display_name": "one-shot",
   "language": "python",
   "name": "one-shot"
  },
  "language_info": {
   "codemirror_mode": {
    "name": "ipython",
    "version": 3
   },
   "file_extension": ".py",
   "mimetype": "text/x-python",
   "name": "python",
   "nbconvert_exporter": "python",
   "pygments_lexer": "ipython3",
   "version": "3.6.7"
  }
 },
 "nbformat": 4,
 "nbformat_minor": 2
}
