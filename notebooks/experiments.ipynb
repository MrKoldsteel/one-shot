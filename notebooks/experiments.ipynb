{
 "cells": [
  {
   "cell_type": "code",
   "execution_count": 3,
   "metadata": {},
   "outputs": [],
   "source": [
    "import numpy as np\n",
    "train_npz_file = np.load('../data/processed/train.npz')\n",
    "X_train, y_train = train_npz_file['arr_0'], train_npz_file['arr_1']"
   ]
  },
  {
   "cell_type": "code",
   "execution_count": 4,
   "metadata": {},
   "outputs": [
    {
     "data": {
      "text/plain": [
       "((19280, 105, 105), (19280, 3))"
      ]
     },
     "execution_count": 4,
     "metadata": {},
     "output_type": "execute_result"
    }
   ],
   "source": [
    "X_train.shape, y_train.shape"
   ]
  },
  {
   "cell_type": "code",
   "execution_count": 5,
   "metadata": {},
   "outputs": [
    {
     "data": {
      "text/plain": [
       "(19280, 105, 105, 1)"
      ]
     },
     "execution_count": 5,
     "metadata": {},
     "output_type": "execute_result"
    }
   ],
   "source": [
    "X_train = X_train.reshape(X_train.shape[0], 105, 105, 1)\n",
    "X_train.shape"
   ]
  },
  {
   "cell_type": "code",
   "execution_count": 6,
   "metadata": {},
   "outputs": [
    {
     "data": {
      "text/plain": [
       "array(['01', '02', '03', '04', '05', '06', '07', '08', '09', '10', '11',\n",
       "       '12', '13', '14', '15', '16', '17', '18', '19', '20'], dtype='<U41')"
      ]
     },
     "execution_count": 6,
     "metadata": {},
     "output_type": "execute_result"
    }
   ],
   "source": [
    "np.unique(y_train[:, 2])"
   ]
  },
  {
   "cell_type": "markdown",
   "metadata": {},
   "source": [
    "Have an idea for a structure that constructs the type of dataset we want.  Create a dictionary with keys being the indices of the data, say.  \n",
    "\n",
    "For each of these, we maintain a 2d tuple\n",
    "- first element of this tuple is an array of indices of other (different) elements of the X, y.\n",
    "- the second element of the tuple is another array.  the element of this is 0 or 1 depending on whether the corresponding element of the first array of the tuple is a different or the same character as the current key of the dictionary.\n",
    "\n",
    "Then creating batches should be quite easy. And the size of the dictionary should control the corresponding size of the \"dataset\".  Accessing the structure to create batches should be fast and easy and we are just putting together access indices for X to form \"pairs\" and putting out the corresponding similarity labels.  \n",
    "\n",
    "We could further embelish with some random transformations of the corresponding X at the batch level.  See how this goes.  Let's get the bare-bones up and going first."
   ]
  },
  {
   "cell_type": "code",
   "execution_count": 171,
   "metadata": {},
   "outputs": [],
   "source": [
    "import numpy as np\n",
    "import pandas as pd\n",
    "\n",
    "class BatchSampler:\n",
    "    \"\"\"\n",
    "    Creates a batch sampler from raw-ish data pairs X, y.  The data needed for\n",
    "    training a siamese networks are image pairs from X and binary indicators\n",
    "    indicating whether they are equal.  Instead of forming these pairs explicitly,\n",
    "    this sampler creates a dictionary with keys corresponding to the rows of X.\n",
    "    The item stored at each key consists of a tuple with:\n",
    "        - a list of indices of rows of X to pair with the current key\n",
    "        - item a list of binary indicators inidcating whether they are of the same \n",
    "          type.\n",
    "    Although this takes a while to initialize (as initialization calls this pair\n",
    "    forming operation), this results in fairly efficient data storage, access and \n",
    "    batch construction.\n",
    "    \n",
    "    Attributes (this should probably be the actual attributes, not the entries\n",
    "    to __init__, which should be in the document there)\n",
    "    ----------\n",
    "    X : array\n",
    "        an n * h * w * n_channels array containing images, presumably from the \n",
    "        dataset we want to generate batches for (presumably for a siamese net\n",
    "        training task).\n",
    "    y : array\n",
    "        an n * 3 array containing the specifics of the characters in X.  The\n",
    "        columns are 'Alphabet', 'Character', 'Drawer'.  This makes this class\n",
    "        quite specific to omniglot.\n",
    "    batch_size : integer\n",
    "        this represents the size of the batches we ultimately want to generate.\n",
    "    half_expand_factor : integer\n",
    "        this represents half of the size by which we would like to expand the\n",
    "        dataset, or half of the number of pairs we would like to construct for\n",
    "        each row of X.\n",
    "        \n",
    "    Methods\n",
    "    -------\n",
    "    form_pairs() \n",
    "        forms the dictionary (this should probably be a private method as it is \n",
    "        called on initialization and not meant to be used.  Then it doesn't enter \n",
    "        into the docstring here or possibly at all).\n",
    "    \n",
    "    This is the general idea for forming these docstrings.  Description then \n",
    "    outline Attributes and public Methods.  Functions inside then have regular\n",
    "    style docstrings.  \n",
    "    \n",
    "    The way sampling is done here means we probably end up passing the same pairs\n",
    "    in here and there, but hopefully this won't hold things up too much.  \n",
    "    \"\"\"\n",
    "    \n",
    "    \n",
    "    def __init__(self, X, y, batch_size=64, half_expand_factor=4):\n",
    "        self.X = X\n",
    "        self.y_n_pd = y # think on whether we really need this for what we want\n",
    "        self.y = pd.DataFrame(\n",
    "                        data=y,\n",
    "                        columns=['Alphabet', 'Character', 'Drawer']\n",
    "                    )\n",
    "        self.B = batch_size\n",
    "        self.E = half_expand_factor\n",
    "        self.n = y.shape[0]\n",
    "        self.pairs = self.form_pairs()\n",
    "        self.inds = np.random.permutation(y.shape[0])\n",
    "        self.current_batch = 0\n",
    "        self.current_efactor = 0\n",
    "        self.max_batches = 1 + y.shape[0] // batch_size\n",
    "        \n",
    "    def form_pairs(self):\n",
    "        pairs = {}\n",
    "        for i in range(self.n):\n",
    "            al, ch, dr = self.y.iloc[i]\n",
    "            same_inds = self.y[\n",
    "                    (self.y.Alphabet == al) &\n",
    "                    (self.y.Character == ch) &\n",
    "                    (self.y.Drawer != dr)\n",
    "                ].sample(self.E, replace=False).index.values\n",
    "            diff_inds = self.y[\n",
    "                   ~((self.y.Alphabet == al) &\n",
    "                     (self.y.Character == ch))\n",
    "                ].sample(self.E, replace=False).index.values\n",
    "            curr_y = np.zeros(2 * self.E)\n",
    "            curr_y[:self.E] = 1\n",
    "            p = np.random.permutation(2 * self.E)\n",
    "            pairs[i] = (\n",
    "                    np.concatenate((same_inds, diff_inds))[p],\n",
    "                    curr_y[p]\n",
    "                )\n",
    "        return pairs\n",
    "    \n",
    "    def generate_batch(self):\n",
    "        \"\"\"\n",
    "        Needs to be written.\n",
    "        \"\"\"\n",
    "        current_inds = self.inds[\n",
    "                    range(\n",
    "                        self.current_batch * self.B, \n",
    "                        min((1 + self.current_batch) * self.B, self.n)\n",
    "                    )\n",
    "        ]\n",
    "        X_b_inds, y_b = [], []\n",
    "        for ind in current_inds:\n",
    "            X_b_inds.append((ind, self.pairs[ind][0][self.current_efactor]))\n",
    "            y_b.append(self.pairs[ind][1][self.current_efactor])\n",
    "        X_b_inds = np.array(X_b_inds)\n",
    "        self.current_batch = (1 + self.current_batch) % self.max_batches\n",
    "        if self.current_batch == 0:\n",
    "            self.current_efactor = (1 + self.current_efactor) % (2 * self.E)\n",
    "        return (\n",
    "                (self.X[X_b_inds[:, 0],:], \n",
    "                 self.X[X_b_inds[:, 1],:]), \n",
    "                np.array(y_b)\n",
    "            )\n",
    "    \n",
    "    def generate_one_shot(self, n=20):\n",
    "        \"\"\"\n",
    "        Although this could also be a class that subclasses this.\n",
    "        \"\"\"\n",
    "        alphabet = np.random.choice(self.y.Alphabet.unique())\n",
    "        drawers = np.random.choice(\n",
    "                        self.y.Drawer.unique(), \n",
    "                        2, replace=False\n",
    "                    )\n",
    "        characters = np.random.choice(\n",
    "                        self.y[\n",
    "                            self.y.Alphabet == alphabet\n",
    "                        ].Character.unique(),\n",
    "                        n, replace=False\n",
    "                    )\n",
    "        \n",
    "        test_inds = self.y[\n",
    "                        (self.y.Alphabet == alphabet) &\n",
    "                        (self.y.Drawer == drawers[0]) &\n",
    "                        np.isin(self.y.Character, characters)\n",
    "                    ].index.values\n",
    "        \n",
    "        train_inds = self.y[\n",
    "                        (self.y.Alphabet == alphabet) &\n",
    "                        (self.y.Drawer == drawers[1]) &\n",
    "                        np.isin(self.y.Character, characters)\n",
    "                    ].index.values\n",
    "        return (\n",
    "                    (test_inds, train_inds), \n",
    "                    (self.y.iloc[test_inds], \n",
    "                     self.y.iloc[train_inds])\n",
    "        )"
   ]
  },
  {
   "cell_type": "markdown",
   "metadata": {},
   "source": [
    "Looks like a pandas data frame is quite a useful way to store the labels array for the sampling tasks that we require.  "
   ]
  },
  {
   "cell_type": "code",
   "execution_count": 8,
   "metadata": {},
   "outputs": [],
   "source": [
    "y_train_pd = pd.DataFrame(data=y_train, columns=['Alphabet', 'Character', 'Drawer'])"
   ]
  },
  {
   "cell_type": "code",
   "execution_count": 9,
   "metadata": {},
   "outputs": [],
   "source": [
    "al_sample = np.random.choice(y_train_pd.Alphabet.unique())"
   ]
  },
  {
   "cell_type": "code",
   "execution_count": 10,
   "metadata": {},
   "outputs": [
    {
     "data": {
      "text/html": [
       "<div>\n",
       "<style scoped>\n",
       "    .dataframe tbody tr th:only-of-type {\n",
       "        vertical-align: middle;\n",
       "    }\n",
       "\n",
       "    .dataframe tbody tr th {\n",
       "        vertical-align: top;\n",
       "    }\n",
       "\n",
       "    .dataframe thead th {\n",
       "        text-align: right;\n",
       "    }\n",
       "</style>\n",
       "<table border=\"1\" class=\"dataframe\">\n",
       "  <thead>\n",
       "    <tr style=\"text-align: right;\">\n",
       "      <th></th>\n",
       "      <th>Alphabet</th>\n",
       "      <th>Character</th>\n",
       "      <th>Drawer</th>\n",
       "    </tr>\n",
       "  </thead>\n",
       "  <tbody>\n",
       "    <tr>\n",
       "      <th>15591</th>\n",
       "      <td>Asomtavruli_(Georgian)</td>\n",
       "      <td>character01</td>\n",
       "      <td>07</td>\n",
       "    </tr>\n",
       "    <tr>\n",
       "      <th>15565</th>\n",
       "      <td>Asomtavruli_(Georgian)</td>\n",
       "      <td>character07</td>\n",
       "      <td>04</td>\n",
       "    </tr>\n",
       "    <tr>\n",
       "      <th>14927</th>\n",
       "      <td>Asomtavruli_(Georgian)</td>\n",
       "      <td>character16</td>\n",
       "      <td>11</td>\n",
       "    </tr>\n",
       "    <tr>\n",
       "      <th>14910</th>\n",
       "      <td>Asomtavruli_(Georgian)</td>\n",
       "      <td>character11</td>\n",
       "      <td>14</td>\n",
       "    </tr>\n",
       "    <tr>\n",
       "      <th>15348</th>\n",
       "      <td>Asomtavruli_(Georgian)</td>\n",
       "      <td>character24</td>\n",
       "      <td>11</td>\n",
       "    </tr>\n",
       "  </tbody>\n",
       "</table>\n",
       "</div>"
      ],
      "text/plain": [
       "                     Alphabet    Character Drawer\n",
       "15591  Asomtavruli_(Georgian)  character01     07\n",
       "15565  Asomtavruli_(Georgian)  character07     04\n",
       "14927  Asomtavruli_(Georgian)  character16     11\n",
       "14910  Asomtavruli_(Georgian)  character11     14\n",
       "15348  Asomtavruli_(Georgian)  character24     11"
      ]
     },
     "execution_count": 10,
     "metadata": {},
     "output_type": "execute_result"
    }
   ],
   "source": [
    "y_train_pd[np.isin(y_train_pd.Alphabet, al_sample)].sample(5, replace=False)"
   ]
  },
  {
   "cell_type": "code",
   "execution_count": 11,
   "metadata": {},
   "outputs": [
    {
     "data": {
      "text/html": [
       "<div>\n",
       "<style scoped>\n",
       "    .dataframe tbody tr th:only-of-type {\n",
       "        vertical-align: middle;\n",
       "    }\n",
       "\n",
       "    .dataframe tbody tr th {\n",
       "        vertical-align: top;\n",
       "    }\n",
       "\n",
       "    .dataframe thead th {\n",
       "        text-align: right;\n",
       "    }\n",
       "</style>\n",
       "<table border=\"1\" class=\"dataframe\">\n",
       "  <thead>\n",
       "    <tr style=\"text-align: right;\">\n",
       "      <th></th>\n",
       "      <th>Alphabet</th>\n",
       "      <th>Character</th>\n",
       "      <th>Drawer</th>\n",
       "    </tr>\n",
       "  </thead>\n",
       "  <tbody>\n",
       "    <tr>\n",
       "      <th>15561</th>\n",
       "      <td>Asomtavruli_(Georgian)</td>\n",
       "      <td>character07</td>\n",
       "      <td>13</td>\n",
       "    </tr>\n",
       "    <tr>\n",
       "      <th>15573</th>\n",
       "      <td>Asomtavruli_(Georgian)</td>\n",
       "      <td>character07</td>\n",
       "      <td>17</td>\n",
       "    </tr>\n",
       "  </tbody>\n",
       "</table>\n",
       "</div>"
      ],
      "text/plain": [
       "                     Alphabet    Character Drawer\n",
       "15561  Asomtavruli_(Georgian)  character07     13\n",
       "15573  Asomtavruli_(Georgian)  character07     17"
      ]
     },
     "execution_count": 11,
     "metadata": {},
     "output_type": "execute_result"
    }
   ],
   "source": [
    "y_train_pd[(y_train_pd.Alphabet == al_sample) & \n",
    "           (y_train_pd.Character == 'character07')].sample(2, replace=False)"
   ]
  },
  {
   "cell_type": "code",
   "execution_count": 12,
   "metadata": {},
   "outputs": [],
   "source": [
    "a = y_train_pd[(y_train_pd.Alphabet == al_sample) &\n",
    "           ((y_train_pd.Drawer == '13') | \n",
    "            (y_train_pd.Drawer == '12'))].sample(20, replace=False)"
   ]
  },
  {
   "cell_type": "code",
   "execution_count": 13,
   "metadata": {},
   "outputs": [
    {
     "data": {
      "text/plain": [
       "Int64Index([15099, 15375, 15528, 15541, 15562, 15227, 15296, 15314, 15313,\n",
       "            15628, 15096, 15351, 15614, 15224, 15144, 15648, 15561, 15441,\n",
       "            14986, 15187],\n",
       "           dtype='int64')"
      ]
     },
     "execution_count": 13,
     "metadata": {},
     "output_type": "execute_result"
    }
   ],
   "source": [
    "a.index"
   ]
  },
  {
   "cell_type": "code",
   "execution_count": 14,
   "metadata": {},
   "outputs": [
    {
     "data": {
      "text/plain": [
       "19280"
      ]
     },
     "execution_count": 14,
     "metadata": {},
     "output_type": "execute_result"
    }
   ],
   "source": [
    "y_train_pd.shape[0]"
   ]
  },
  {
   "cell_type": "code",
   "execution_count": 15,
   "metadata": {},
   "outputs": [],
   "source": [
    "a, b, c = y_train_pd.iloc[0]"
   ]
  },
  {
   "cell_type": "code",
   "execution_count": 16,
   "metadata": {},
   "outputs": [
    {
     "data": {
      "text/plain": [
       "('Gujarati', 'character42', '14')"
      ]
     },
     "execution_count": 16,
     "metadata": {},
     "output_type": "execute_result"
    }
   ],
   "source": [
    "a, b, c"
   ]
  },
  {
   "cell_type": "code",
   "execution_count": 17,
   "metadata": {},
   "outputs": [],
   "source": [
    "al, ch, dr = y_train_pd.iloc[5]"
   ]
  },
  {
   "cell_type": "code",
   "execution_count": 18,
   "metadata": {},
   "outputs": [
    {
     "data": {
      "text/plain": [
       "('Gujarati', 'character42', '16')"
      ]
     },
     "execution_count": 18,
     "metadata": {},
     "output_type": "execute_result"
    }
   ],
   "source": [
    "al, ch, dr"
   ]
  },
  {
   "cell_type": "code",
   "execution_count": 19,
   "metadata": {},
   "outputs": [
    {
     "data": {
      "text/plain": [
       "array([8, 0, 2, 6])"
      ]
     },
     "execution_count": 19,
     "metadata": {},
     "output_type": "execute_result"
    }
   ],
   "source": [
    "y_train_pd[(y_train_pd.Alphabet == al) &\n",
    "           (y_train_pd.Character == ch) &\n",
    "           (y_train_pd.Drawer != dr)].sample(4, replace=False).index.values"
   ]
  },
  {
   "cell_type": "code",
   "execution_count": 20,
   "metadata": {},
   "outputs": [
    {
     "data": {
      "text/plain": [
       "array([15136,  2413,  5808,  3505])"
      ]
     },
     "execution_count": 20,
     "metadata": {},
     "output_type": "execute_result"
    }
   ],
   "source": [
    "y_train_pd[~((y_train_pd.Alphabet == al) &\n",
    "            (y_train_pd.Character == ch))].sample(4, replace=False).index.values"
   ]
  },
  {
   "cell_type": "code",
   "execution_count": 172,
   "metadata": {},
   "outputs": [],
   "source": [
    "a = BatchSampler(\n",
    "        X_train[:2500],\n",
    "        y_train[:2500],\n",
    "        batch_size=7,\n",
    "        half_expand_factor=2\n",
    ")"
   ]
  },
  {
   "cell_type": "code",
   "execution_count": 173,
   "metadata": {},
   "outputs": [
    {
     "data": {
      "text/plain": [
       "(1, 0, (7, 105, 105, 1), (7, 105, 105, 1), array([0., 1., 1., 1., 0., 0., 1.]))"
      ]
     },
     "execution_count": 173,
     "metadata": {},
     "output_type": "execute_result"
    }
   ],
   "source": [
    "(b, c), d = a.generate_batch()\n",
    "a.current_batch, a.current_efactor, b.shape, c.shape, d"
   ]
  },
  {
   "cell_type": "code",
   "execution_count": 23,
   "metadata": {},
   "outputs": [],
   "source": [
    "import matplotlib.pyplot as plt\n",
    "from matplotlib.pyplot import imshow"
   ]
  },
  {
   "cell_type": "code",
   "execution_count": 174,
   "metadata": {},
   "outputs": [
    {
     "name": "stdout",
     "output_type": "stream",
     "text": [
      "[0. 1. 1. 1. 0. 0. 1.]\n"
     ]
    },
    {
     "data": {
      "image/png": "[encoded data removed]",
      "text/plain": [
       "<matplotlib.figure.Figure at 0x15592b6a0>"
      ]
     },
     "metadata": {},
     "output_type": "display_data"
    }
   ],
   "source": [
    "dim = b.shape[0]\n",
    "print(d)\n",
    "fig, axes = plt.subplots(dim, 2, sharey=True, figsize=(15, 60))\n",
    "for i in range(dim):\n",
    "    axes[i, 0].imshow(b[i, :, :, 0], cmap='Greys')\n",
    "    axes[i, 1].imshow(c[i, :, :, 0], cmap='Greys')"
   ]
  },
  {
   "cell_type": "code",
   "execution_count": 268,
   "metadata": {},
   "outputs": [
    {
     "ename": "ValueError",
     "evalue": "Cannot take a larger sample than population when 'replace=False'",
     "output_type": "error",
     "traceback": [
      "\u001b[0;31m---------------------------------------------------------------------------\u001b[0m",
      "\u001b[0;31mValueError\u001b[0m                                Traceback (most recent call last)",
      "\u001b[0;32m<ipython-input-268-ffdcebfab2c8>\u001b[0m in \u001b[0;36m<module>\u001b[0;34m()\u001b[0m\n\u001b[0;32m----> 1\u001b[0;31m \u001b[0;34m(\u001b[0m\u001b[0mtest_inds\u001b[0m\u001b[0;34m,\u001b[0m \u001b[0mtrain_inds\u001b[0m\u001b[0;34m)\u001b[0m\u001b[0;34m,\u001b[0m \u001b[0;34m(\u001b[0m\u001b[0mu\u001b[0m\u001b[0;34m,\u001b[0m \u001b[0mv\u001b[0m\u001b[0;34m)\u001b[0m \u001b[0;34m=\u001b[0m \u001b[0ma\u001b[0m\u001b[0;34m.\u001b[0m\u001b[0mgenerate_one_shot\u001b[0m\u001b[0;34m(\u001b[0m\u001b[0;36m12\u001b[0m\u001b[0;34m)\u001b[0m\u001b[0;34m\u001b[0m\u001b[0m\n\u001b[0m",
      "\u001b[0;32m<ipython-input-171-fd28721c0d78>\u001b[0m in \u001b[0;36mgenerate_one_shot\u001b[0;34m(self, n)\u001b[0m\n\u001b[1;32m    125\u001b[0m                             \u001b[0mself\u001b[0m\u001b[0;34m.\u001b[0m\u001b[0my\u001b[0m\u001b[0;34m.\u001b[0m\u001b[0mAlphabet\u001b[0m \u001b[0;34m==\u001b[0m \u001b[0malphabet\u001b[0m\u001b[0;34m\u001b[0m\u001b[0m\n\u001b[1;32m    126\u001b[0m                         ].Character.unique(),\n\u001b[0;32m--> 127\u001b[0;31m                         \u001b[0mn\u001b[0m\u001b[0;34m,\u001b[0m \u001b[0mreplace\u001b[0m\u001b[0;34m=\u001b[0m\u001b[0;32mFalse\u001b[0m\u001b[0;34m\u001b[0m\u001b[0m\n\u001b[0m\u001b[1;32m    128\u001b[0m                     )\n\u001b[1;32m    129\u001b[0m \u001b[0;34m\u001b[0m\u001b[0m\n",
      "\u001b[0;32mmtrand.pyx\u001b[0m in \u001b[0;36mmtrand.RandomState.choice\u001b[0;34m()\u001b[0m\n",
      "\u001b[0;31mValueError\u001b[0m: Cannot take a larger sample than population when 'replace=False'"
     ]
    }
   ],
   "source": [
    "(test_inds, train_inds), (u, v) = a.generate_one_shot(12)"
   ]
  },
  {
   "cell_type": "code",
   "execution_count": 269,
   "metadata": {},
   "outputs": [
    {
     "data": {
      "text/plain": [
       "array([['Arcadian', 'character16', '01', 'Arcadian', 'character16', '10'],\n",
       "       ['Arcadian', 'character26', '01', 'Arcadian', 'character26', '10'],\n",
       "       ['Arcadian', 'character19', '01', 'Arcadian', 'character19', '10'],\n",
       "       ['Arcadian', 'character17', '01', 'Arcadian', 'character17', '10'],\n",
       "       ['Arcadian', 'character03', '01', 'Arcadian', 'character03', '10'],\n",
       "       ['Arcadian', 'character04', '01', 'Arcadian', 'character04', '10'],\n",
       "       ['Arcadian', 'character02', '01', 'Arcadian', 'character02', '10'],\n",
       "       ['Arcadian', 'character15', '01', 'Arcadian', 'character15', '10'],\n",
       "       ['Arcadian', 'character25', '01', 'Arcadian', 'character25', '10'],\n",
       "       ['Arcadian', 'character07', '01', 'Arcadian', 'character07', '10'],\n",
       "       ['Arcadian', 'character01', '01', 'Arcadian', 'character01', '10'],\n",
       "       ['Arcadian', 'character08', '01', 'Arcadian', 'character08', '10']],\n",
       "      dtype='<U41')"
      ]
     },
     "execution_count": 269,
     "metadata": {},
     "output_type": "execute_result"
    }
   ],
   "source": [
    "np.concatenate((y_train[test_inds], y_train[train_inds]), axis=1)"
   ]
  },
  {
   "cell_type": "code",
   "execution_count": 231,
   "metadata": {},
   "outputs": [],
   "source": [
    "y_20_shot = y_train_pd.iloc[:2500] "
   ]
  },
  {
   "cell_type": "code",
   "execution_count": 253,
   "metadata": {},
   "outputs": [
    {
     "name": "stdout",
     "output_type": "stream",
     "text": [
      "Gujarati:  48\n",
      "Korean:  40\n",
      "Arcadian:  26\n",
      "Malay_(Jawi_-_Arabic):  11\n"
     ]
    }
   ],
   "source": [
    "for alphabet in y_train_pd.iloc[:2500].Alphabet.unique():\n",
    "    print(alphabet + ': ', y_20_shot[y_20_shot.Alphabet == alphabet].Character.unique().shape[0])"
   ]
  },
  {
   "cell_type": "code",
   "execution_count": 271,
   "metadata": {},
   "outputs": [
    {
     "name": "stdout",
     "output_type": "stream",
     "text": [
      "Smallest number of characters in a training alphabet: 14\n"
     ]
    }
   ],
   "source": [
    "alphabet_lengths = []\n",
    "for alphabet in y_train_pd.Alphabet.unique():\n",
    "    characters = y_train_pd.Character[y_train_pd.Alphabet == alphabet].unique()\n",
    "    alphabet_lengths.append(characters.shape[0])\n",
    "print(\"Smallest number of characters in a training alphabet: {}\".format(np.min(alphabet_lengths)))"
   ]
  },
  {
   "cell_type": "code",
   "execution_count": 276,
   "metadata": {},
   "outputs": [],
   "source": [
    "test_npz_file = np.load('../data/processed/test.npz')\n",
    "X_test, y_test = test_npz_file['arr_0'], test_npz_file['arr_1']\n",
    "y_test_pd = pd.DataFrame(data=y_test, columns=['Alphabet', 'Character', 'Drawer'])"
   ]
  },
  {
   "cell_type": "code",
   "execution_count": 277,
   "metadata": {},
   "outputs": [
    {
     "name": "stdout",
     "output_type": "stream",
     "text": [
      "Smallest number of characters in a test alphabet: 20\n"
     ]
    }
   ],
   "source": [
    "alphabet_lengths = []\n",
    "for alphabet in y_test_pd.Alphabet.unique():\n",
    "    characters = y_test_pd.Character[y_test_pd.Alphabet == alphabet].unique()\n",
    "    alphabet_lengths.append(characters.shape[0])\n",
    "print(\"Smallest number of characters in a test alphabet: {}\".format(np.min(alphabet_lengths)))"
   ]
  },
  {
   "cell_type": "code",
   "execution_count": 279,
   "metadata": {},
   "outputs": [
    {
     "data": {
      "text/plain": [
       "((19280, 3), (13180, 3), 32460)"
      ]
     },
     "execution_count": 279,
     "metadata": {},
     "output_type": "execute_result"
    }
   ],
   "source": [
    "y_train_pd.shape, y_test_pd.shape, y_train_pd.shape[0] + y_test_pd.shape[0]"
   ]
  },
  {
   "cell_type": "code",
   "execution_count": 280,
   "metadata": {},
   "outputs": [
    {
     "data": {
      "text/plain": [
       "50"
      ]
     },
     "execution_count": 280,
     "metadata": {},
     "output_type": "execute_result"
    }
   ],
   "source": [
    "y_train_pd.Alphabet.unique().shape[0] + y_test_pd.Alphabet.unique().shape[0]"
   ]
  },
  {
   "cell_type": "code",
   "execution_count": 281,
   "metadata": {},
   "outputs": [
    {
     "data": {
      "text/plain": [
       "964"
      ]
     },
     "execution_count": 281,
     "metadata": {},
     "output_type": "execute_result"
    }
   ],
   "source": [
    "characters_in_test, characters_in_train = 0, 0\n",
    "for alphabet in y_train_pd.Alphabet.unique():\n",
    "    characters_in_alphabet = y_train_pd.Character[\n",
    "                y_train_pd.Alphabet == alphabet\n",
    "            ].unique().shape[0]\n",
    "    characters_in_train += characters_in_alphabet\n",
    "characters_in_train"
   ]
  },
  {
   "cell_type": "code",
   "execution_count": 282,
   "metadata": {},
   "outputs": [
    {
     "data": {
      "text/plain": [
       "659"
      ]
     },
     "execution_count": 282,
     "metadata": {},
     "output_type": "execute_result"
    }
   ],
   "source": [
    "for alphabet in y_test_pd.Alphabet.unique():\n",
    "    characters_in_alphabet = y_test_pd.Character[\n",
    "                y_test_pd.Alphabet == alphabet\n",
    "            ].unique().shape[0]\n",
    "    characters_in_test += characters_in_alphabet\n",
    "characters_in_test"
   ]
  },
  {
   "cell_type": "code",
   "execution_count": 283,
   "metadata": {},
   "outputs": [
    {
     "data": {
      "text/plain": [
       "1623"
      ]
     },
     "execution_count": 283,
     "metadata": {},
     "output_type": "execute_result"
    }
   ],
   "source": [
    "964 + 659"
   ]
  },
  {
   "cell_type": "code",
   "execution_count": null,
   "metadata": {},
   "outputs": [],
   "source": []
  }
 ],
 "metadata": {
  "kernelspec": {
   "display_name": "Python 3",
   "language": "python",
   "name": "python3"
  },
  "language_info": {
   "codemirror_mode": {
    "name": "ipython",
    "version": 3
   },
   "file_extension": ".py",
   "mimetype": "text/x-python",
   "name": "python",
   "nbconvert_exporter": "python",
   "pygments_lexer": "ipython3",
   "version": "3.6.4"
  }
 },
 "nbformat": 4,
 "nbformat_minor": 2
}
